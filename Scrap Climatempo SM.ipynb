{
  "nbformat": 4,
  "nbformat_minor": 0,
  "metadata": {
    "colab": {
      "name": "Scrap Climatempo SM.ipynb",
      "provenance": [],
      "collapsed_sections": [],
      "authorship_tag": "ABX9TyPEiEmVpA9dSBx6IkuSXxPH",
      "include_colab_link": true
    },
    "kernelspec": {
      "name": "python3",
      "display_name": "Python 3"
    },
    "language_info": {
      "name": "python"
    }
  },
  "cells": [
    {
      "cell_type": "markdown",
      "metadata": {
        "id": "view-in-github",
        "colab_type": "text"
      },
      "source": [
        "<a href=\"https://colab.research.google.com/github/ferkrum/DS-Notebooks/blob/main/Scrap%20Climatempo%20SM.ipynb\" target=\"_parent\"><img src=\"https://colab.research.google.com/assets/colab-badge.svg\" alt=\"Open In Colab\"/></a>"
      ]
    },
    {
      "cell_type": "markdown",
      "source": [
        "Proposta: Criar um sistema que cheque a temperatura e umidade atual e compare com a média mensal acumulada de anos anteriores. O programa deve informar se a temperatura e umidade estão abaixo ou acima da média. \n",
        "\n",
        "Roadmap:\n",
        "1. criar um bot no telegram para receber essa informação.\n",
        "\n",
        "\n",
        "Fonte de dados: https://www.climatempo.com.br/previsao-do-tempo/agora/cidade/366/santamaria-rs"
      ],
      "metadata": {
        "id": "QJwQ6O7XeC-S"
      }
    },
    {
      "cell_type": "code",
      "execution_count": 125,
      "metadata": {
        "id": "fOYbRAuBdDjk"
      },
      "outputs": [],
      "source": [
        "import requests \n",
        "from bs4 import BeautifulSoup as bs"
      ]
    },
    {
      "cell_type": "code",
      "source": [
        "from datetime import datetime\n",
        "from pytz import timezone \n",
        "brasil = timezone('Brazil/East')\n",
        "bs_time = datetime.now(brasil)\n",
        "timestampBrasil = bs_time.strftime('%Y-%m-%d_%H-%M-%S')\n",
        "#print(bs_time)"
      ],
      "metadata": {
        "id": "9aFhQiyvLfol"
      },
      "execution_count": 126,
      "outputs": []
    },
    {
      "cell_type": "markdown",
      "source": [
        "Obtendo informações:"
      ],
      "metadata": {
        "id": "OH7YP6T3fBAD"
      }
    },
    {
      "cell_type": "code",
      "source": [
        "headers = {\"User-Agent\": \"Mozilla/5.0 (Windows NT 10.0; Win64; x64) AppleWebKit/537.36 (KHTML, like Gecko) Chrome/70.0.3538.77 Safari/537.36\"}"
      ],
      "metadata": {
        "id": "L_iy8wDFh6Tm"
      },
      "execution_count": 127,
      "outputs": []
    },
    {
      "cell_type": "code",
      "source": [
        "URL = 'https://www.climatempo.com.br/previsao-do-tempo/agora/cidade/366/santamaria-rs'"
      ],
      "metadata": {
        "id": "XsVxSHrRP5Qp"
      },
      "execution_count": 128,
      "outputs": []
    },
    {
      "cell_type": "code",
      "source": [
        "response = requests.get(URL, headers = headers).content"
      ],
      "metadata": {
        "id": "bolNGidSfEAz"
      },
      "execution_count": 129,
      "outputs": []
    },
    {
      "cell_type": "code",
      "source": [
        "soup = bs(response, 'html.parser')"
      ],
      "metadata": {
        "id": "b94MB49OLsLq"
      },
      "execution_count": 130,
      "outputs": []
    },
    {
      "cell_type": "code",
      "source": [
        "#obtem informacoes\n",
        "temperaturaAtual = soup.find(\"div\", class_= \"_flex _justify-center _align-center\").get_text(' ', strip = True)\n",
        "descricaoAtual = soup.find(\"span\", class_= \"col\").get_text(' ', strip = True)"
      ],
      "metadata": {
        "id": "U-D4DajyO-7Q"
      },
      "execution_count": 131,
      "outputs": []
    },
    {
      "cell_type": "code",
      "source": [
        "descricaoAtual2 = soup.find(\"div\", class_= \"no-gutters -gray _flex _justify-center _margin-t-20 _padding-b-20 _border-b-light-1\")"
      ],
      "metadata": {
        "id": "Oc3gLuNwaB4N"
      },
      "execution_count": 132,
      "outputs": []
    },
    {
      "cell_type": "code",
      "source": [
        "sensacaoAtual = descricaoAtual2.find(\"span\", class_ = \"\").text"
      ],
      "metadata": {
        "id": "pUKMqHhkaa3q"
      },
      "execution_count": 133,
      "outputs": []
    },
    {
      "cell_type": "code",
      "source": [
        "detalhesAtual = soup.find(\"ul\", class_= \"variables-list _border-b-light-1\").get_text(' ', strip = True)"
      ],
      "metadata": {
        "id": "thVvwa_UUEfQ"
      },
      "execution_count": 134,
      "outputs": []
    },
    {
      "cell_type": "code",
      "source": [
        "detalhesAtual = detalhesAtual.replace('Vento', '').replace('Umidade', ',').replace('Pressão', ',').strip().split(',')"
      ],
      "metadata": {
        "id": "HbjE2XMgVWSD"
      },
      "execution_count": 135,
      "outputs": []
    },
    {
      "cell_type": "code",
      "source": [
        "ventoAtual = detalhesAtual[0].strip()\n",
        "umidadeAtual = detalhesAtual[1].strip()\n",
        "pressaoAtual = detalhesAtual[2].strip()"
      ],
      "metadata": {
        "id": "rNu4ggVSV6wK"
      },
      "execution_count": 136,
      "outputs": []
    },
    {
      "cell_type": "code",
      "source": [
        ""
      ],
      "metadata": {
        "id": "57kjYTJcZZUg"
      },
      "execution_count": 136,
      "outputs": []
    },
    {
      "cell_type": "code",
      "source": [
        "print ('Santa Maria - \\t', timestampBrasil)\n",
        "print('Temperatura:\\t', temperaturaAtual)\n",
        "print('Sensação:\\t', sensacaoAtual[-3:])\n",
        "print('Descrição:\\t', descricaoAtual)\n",
        "print('Vento:\\t\\t',ventoAtual)\n",
        "print('Umidade:\\t',umidadeAtual)\n",
        "print('Pressão:\\t',pressaoAtual)"
      ],
      "metadata": {
        "colab": {
          "base_uri": "https://localhost:8080/"
        },
        "id": "6DgYyKPLTU1d",
        "outputId": "0c4fded3-72e2-4860-cde8-6c8874c71846"
      },
      "execution_count": 149,
      "outputs": [
        {
          "output_type": "stream",
          "name": "stdout",
          "text": [
            "Santa Maria - \t 2022-07-06_00-04-53\n",
            "Temperatura:\t 18º\n",
            "Sensação:\t 18°\n",
            "Descrição:\t Nuvens esparsas\n",
            "Vento:\t\t ESE - 11km/h\n",
            "Umidade:\t 100%\n",
            "Pressão:\t 1014hPa\n"
          ]
        }
      ]
    }
  ]
}