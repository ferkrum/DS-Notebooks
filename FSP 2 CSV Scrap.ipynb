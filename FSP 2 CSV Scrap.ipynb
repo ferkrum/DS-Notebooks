{
  "nbformat": 4,
  "nbformat_minor": 0,
  "metadata": {
    "colab": {
      "name": "Aula 31c - fsp scrap.ipynb",
      "provenance": [],
      "authorship_tag": "ABX9TyPaCH/W9ohexTsWmjbhJnSY",
      "include_colab_link": true
    },
    "kernelspec": {
      "name": "python3",
      "display_name": "Python 3"
    },
    "language_info": {
      "name": "python"
    }
  },
  "cells": [
    {
      "cell_type": "markdown",
      "metadata": {
        "id": "view-in-github",
        "colab_type": "text"
      },
      "source": [
        "<a href=\"https://colab.research.google.com/github/ferkrum/DS-Notebooks/blob/main/FSP%202%20CSV%20Scrap.ipynb\" target=\"_parent\"><img src=\"https://colab.research.google.com/assets/colab-badge.svg\" alt=\"Open In Colab\"/></a>"
      ]
    },
    {
      "cell_type": "markdown",
      "source": [
        "# FSP 2 CSV\n",
        "\n",
        "Importando manchetes da Folha para um arquivo .csv.\n",
        "Com Python + BeautifulSoup\n",
        "\n",
        "Refs Beautifulsoup [aqui](https://beautiful-soup-4.readthedocs.io/en/latest/).\n",
        "\n",
        "5/jul/2022"
      ],
      "metadata": {
        "id": "J2QDsAl8zMhd"
      }
    },
    {
      "cell_type": "code",
      "execution_count": 6,
      "metadata": {
        "id": "XUvhqfQ4ywhT"
      },
      "outputs": [],
      "source": [
        "import requests\n",
        "from bs4 import BeautifulSoup\n"
      ]
    },
    {
      "cell_type": "code",
      "source": [
        "from datetime import datetime\n",
        "from pytz import timezone \n",
        "brasil = timezone('Brazil/East')\n",
        "bs_time = datetime.now(brasil)\n",
        "timestampBrasil = bs_time.strftime('%Y-%m-%d_%H-%M-%S')\n",
        "#print(bs_time)"
      ],
      "metadata": {
        "id": "9aFhQiyvLfol"
      },
      "execution_count": 130,
      "outputs": []
    },
    {
      "cell_type": "code",
      "source": [
        "response = requests.get('https://www.folha.uol.com.br/').content"
      ],
      "metadata": {
        "id": "tei_1NUhzp62"
      },
      "execution_count": 11,
      "outputs": []
    },
    {
      "cell_type": "code",
      "source": [
        "#parser\n",
        "soup = BeautifulSoup(response, 'html.parser')"
      ],
      "metadata": {
        "id": "4_TcC-bn2QKk"
      },
      "execution_count": 12,
      "outputs": []
    },
    {
      "cell_type": "code",
      "source": [
        "soup.find_all(\"h2\",class_= \"c-main-headline__title\")"
      ],
      "metadata": {
        "colab": {
          "base_uri": "https://localhost:8080/"
        },
        "id": "71t_DFgg2r58",
        "outputId": "37e3206c-a953-49de-aad6-be29df9bc27c"
      },
      "execution_count": 20,
      "outputs": [
        {
          "output_type": "execute_result",
          "data": {
            "text/plain": [
              "[<h2 class=\"c-main-headline__title\">Caixa pagou obras em mansão do ex-presidente do banco Pedro Guimarães</h2>,\n",
              " <h2 class=\"c-main-headline__title\">Seu filho vive gripado? Entenda por que as 'crechites' estão mais intensas</h2>]"
            ]
          },
          "metadata": {},
          "execution_count": 20
        }
      ]
    },
    {
      "cell_type": "code",
      "source": [
        "noticias = soup.find_all(\"a\",class_= \"c-headline__url\")"
      ],
      "metadata": {
        "id": "Jx-QLoYy6MR9"
      },
      "execution_count": 34,
      "outputs": []
    },
    {
      "cell_type": "code",
      "source": [
        "noticias[0]"
      ],
      "metadata": {
        "id": "KSdOyCaYFKy_"
      },
      "execution_count": null,
      "outputs": []
    },
    {
      "cell_type": "code",
      "source": [
        "noticias[0].find(\"p\").get_text(\" \", strip=True)"
      ],
      "metadata": {
        "colab": {
          "base_uri": "https://localhost:8080/",
          "height": 35
        },
        "id": "9VETn8jjIBjg",
        "outputId": "632f0338-a017-4b50-8326-46c7b77a67a7"
      },
      "execution_count": 104,
      "outputs": [
        {
          "output_type": "execute_result",
          "data": {
            "text/plain": [
              "'Pacheco diz que vai abrir comissões, mas deixou início para colégio de líderes'"
            ],
            "application/vnd.google.colaboratory.intrinsic+json": {
              "type": "string"
            }
          },
          "metadata": {},
          "execution_count": 104
        }
      ]
    },
    {
      "cell_type": "code",
      "source": [
        "dictNoticias = {}\n",
        "contador = 0 \n",
        "for i in noticias:\n",
        "  contador+=1\n",
        "  #print(contador)\n",
        "  try: \n",
        "    tituloNoticia = i.find(\"h2\").get_text(' ', strip = True) #funcao para remover espaços da string\n",
        "  except:\n",
        "    tituloNoticia = 'none'\n",
        "  urlNoticia = i['href']\n",
        "  try:\n",
        "    mancheteNoticia = i.find(\"p\").get_text(' ', strip = True)\n",
        "  except:\n",
        "    mancheteNoticia = 'none'\n",
        "  #cria dicionario\n",
        "  dictNoticias[contador] = {\"titulo\" : tituloNoticia, \"manchete\" : mancheteNoticia, \"url\" : urlNoticia}\n"
      ],
      "metadata": {
        "id": "ollztxdVEC7H"
      },
      "execution_count": null,
      "outputs": []
    },
    {
      "cell_type": "code",
      "source": [
        "import pandas as pd"
      ],
      "metadata": {
        "id": "wwR5KqGm7lO_"
      },
      "execution_count": 110,
      "outputs": []
    },
    {
      "cell_type": "code",
      "source": [
        "dfNoticias = pd.DataFrame.from_dict(dictNoticias).T\n",
        "pd.DataFrame.from_dict(dictNoticias).T.to_csv('noticias_folha' + timestampBrasil + '.csv')"
      ],
      "metadata": {
        "id": "gq5dOKKHJMdO"
      },
      "execution_count": 133,
      "outputs": []
    },
    {
      "cell_type": "code",
      "source": [
        "dfNoticias"
      ],
      "metadata": {
        "id": "02r-K_fRJRgu"
      },
      "execution_count": null,
      "outputs": []
    }
  ]
}