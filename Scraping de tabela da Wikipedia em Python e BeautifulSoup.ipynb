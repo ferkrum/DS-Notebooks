{
  "nbformat": 4,
  "nbformat_minor": 0,
  "metadata": {
    "colab": {
      "name": "Aula 31b - Criando dataframe da Wikipedia Acessando_Paginas_02.ipynb",
      "provenance": [],
      "collapsed_sections": [],
      "toc_visible": true,
      "include_colab_link": true
    },
    "kernelspec": {
      "name": "python3",
      "display_name": "Python 3"
    },
    "language_info": {
      "name": "python"
    }
  },
  "cells": [
    {
      "cell_type": "markdown",
      "metadata": {
        "id": "view-in-github",
        "colab_type": "text"
      },
      "source": [
        "<a href=\"https://colab.research.google.com/github/ferkrum/DS-Notebooks/blob/main/Scraping%20de%20tabela%20da%20Wikipedia%20em%20Python%20e%20BeautifulSoup.ipynb\" target=\"_parent\"><img src=\"https://colab.research.google.com/assets/colab-badge.svg\" alt=\"Open In Colab\"/></a>"
      ]
    },
    {
      "cell_type": "markdown",
      "source": [
        "# Tarefa: criar um dataframe da tabela de estados brasileiros na Wikipedia:\n",
        "[lista de estados](https://pt.wikipedia.org/wiki/Lista_de_capitais_do_Brasil_por_%C3%A1rea) do Brasil."
      ],
      "metadata": {
        "id": "0vU75WmTl1V5"
      }
    },
    {
      "cell_type": "markdown",
      "source": [
        "## 1º: Importação de bibliotecas: \n",
        "1. \"request\" para fazer requisições de dados da web.\n",
        "2. \"BeautifulSoup\" para fazer o processamento da informação (*parsing*) obtida pelo request."
      ],
      "metadata": {
        "id": "MpaCSVvIl3MW"
      }
    },
    {
      "cell_type": "code",
      "source": [
        "import requests\n",
        "from bs4 import BeautifulSoup\n",
        "import pandas as pd"
      ],
      "metadata": {
        "id": "TSspYD5Lc3AP"
      },
      "execution_count": 112,
      "outputs": []
    },
    {
      "cell_type": "markdown",
      "source": [
        "## 2º: Request + parsing (beautifulSoup)"
      ],
      "metadata": {
        "id": "rzlDYRAi7Psh"
      }
    },
    {
      "cell_type": "code",
      "source": [
        "#obtém o conteúdo da página através do request \n",
        "response = requests.get('https://pt.wikipedia.org/wiki/Lista_de_capitais_do_Brasil_por_%C3%A1rea').content"
      ],
      "metadata": {
        "id": "41tvs-qutYAg"
      },
      "execution_count": 2,
      "outputs": []
    },
    {
      "cell_type": "code",
      "source": [
        "#debug do que há em response\n",
        "response"
      ],
      "metadata": {
        "id": "nN27sIEdoCRV"
      },
      "execution_count": null,
      "outputs": []
    },
    {
      "cell_type": "code",
      "source": [
        "# parsing com BeautifulSoup\n",
        "soup = BeautifulSoup(response, 'html.parser')"
      ],
      "metadata": {
        "id": "swsSAaF7dhQ2"
      },
      "execution_count": 3,
      "outputs": []
    },
    {
      "cell_type": "code",
      "source": [
        "soup"
      ],
      "metadata": {
        "id": "H4M9iHwvdzJK"
      },
      "execution_count": null,
      "outputs": []
    },
    {
      "cell_type": "markdown",
      "source": [
        "A partir daqui devemos procurar pelos tags que queremos obter da página procurada.\n",
        "Usamos a ferramenta \"inspect\" do navegador para identificar as tags."
      ],
      "metadata": {
        "id": "FMJPxEA-olWf"
      }
    },
    {
      "cell_type": "markdown",
      "source": [
        "**Modelo do dicionario: **\n",
        "dictCapitaisTabela[posicao] : { 'sede_do_governo' : sede_do_govermo, 'ibge' : ibge, 'uf' : uf, 'area' : area}"
      ],
      "metadata": {
        "id": "9_BwIZjMs87_"
      }
    },
    {
      "cell_type": "code",
      "source": [
        "capitaisTabela = soup.find(\"tbody\")"
      ],
      "metadata": {
        "id": "vO8meLrrd0dZ"
      },
      "execution_count": 4,
      "outputs": []
    },
    {
      "cell_type": "code",
      "source": [
        "capitaisTabela"
      ],
      "metadata": {
        "id": "kWaI9Ou9b-IV"
      },
      "execution_count": null,
      "outputs": []
    },
    {
      "cell_type": "code",
      "source": [
        "linhasTabela = capitaisTabela.find_all(\"tr\")"
      ],
      "metadata": {
        "id": "1QXnvY_TvIkL"
      },
      "execution_count": 5,
      "outputs": []
    },
    {
      "cell_type": "code",
      "source": [
        "len(linhasTabela)"
      ],
      "metadata": {
        "id": "qU6X-hBe8LTH",
        "colab": {
          "base_uri": "https://localhost:8080/"
        },
        "outputId": "503c74f6-d6e5-4305-cd42-fbfacfb492b9"
      },
      "execution_count": 71,
      "outputs": [
        {
          "output_type": "execute_result",
          "data": {
            "text/plain": [
              "28"
            ]
          },
          "metadata": {},
          "execution_count": 71
        }
      ]
    },
    {
      "cell_type": "markdown",
      "source": [
        "## Inicializa dicionario final"
      ],
      "metadata": {
        "id": "vbPJDUKUmnbi"
      }
    },
    {
      "cell_type": "code",
      "source": [
        "#inicializa dicionario final \n",
        "dictCapitaisTabela = {}"
      ],
      "metadata": {
        "id": "25cLGkphyAUO"
      },
      "execution_count": 65,
      "outputs": []
    },
    {
      "cell_type": "code",
      "source": [
        "len(linhasTabela)"
      ],
      "metadata": {
        "colab": {
          "base_uri": "https://localhost:8080/"
        },
        "id": "JfFYvWa9y2SP",
        "outputId": "34546594-f667-43ab-9d0d-edc42e1f2147"
      },
      "execution_count": 74,
      "outputs": [
        {
          "output_type": "execute_result",
          "data": {
            "text/plain": [
              "28"
            ]
          },
          "metadata": {},
          "execution_count": 74
        }
      ]
    },
    {
      "cell_type": "markdown",
      "source": [
        "modelo do dicionario --> \\\\dictCapitaisTabela[posicao] : { \"sede\" : sede_do_govermo, 'ibge' : ibge, 'uf' : uf, 'area' : area}"
      ],
      "metadata": {
        "id": "FO0iaYKssG7k"
      }
    },
    {
      "cell_type": "code",
      "source": [
        "#para cada linha da tabela, busca todas celulas\n",
        "for i in linhasTabela:              #for para percorrer linhas da tabela\n",
        "  celulasTabela = i.find_all(\"td\")  #busca todos os tags \"td\" \n",
        "  try:                              #usamos try except porque a primeira linha da coluna não contém a tag \"td\", mas sim \"th\" e isso gerava um erro no programa\n",
        "    dictCapitaisTabela[str.strip(celulasTabela[0].text)] = {\"sede\": str.strip(celulasTabela[1].text), \"ibge\": str.strip(celulasTabela[2].text), \"uf\": str.strip(celulasTabela[3].text), \"area\": str.strip(celulasTabela[4].text).replace(u'\\xa0', u' ')}\n",
        "  except:\n",
        "    print(\"\") "
      ],
      "metadata": {
        "colab": {
          "base_uri": "https://localhost:8080/"
        },
        "id": "ecjRuncWoFgE",
        "outputId": "6e858b0b-1887-45bb-9310-338b0ba6280c"
      },
      "execution_count": 103,
      "outputs": [
        {
          "output_type": "stream",
          "name": "stdout",
          "text": [
            "\n"
          ]
        }
      ]
    },
    {
      "cell_type": "code",
      "source": [
        "#debug testando o dicionario\n",
        "dictCapitaisTabela[\"1\"][\"area\"]"
      ],
      "metadata": {
        "colab": {
          "base_uri": "https://localhost:8080/",
          "height": 36
        },
        "id": "oHN_VXGCtcZ0",
        "outputId": "daea8191-18e9-4202-ceac-76a73a301b7b"
      },
      "execution_count": 111,
      "outputs": [
        {
          "output_type": "execute_result",
          "data": {
            "text/plain": [
              "'34 090,952'"
            ],
            "application/vnd.google.colaboratory.intrinsic+json": {
              "type": "string"
            }
          },
          "metadata": {},
          "execution_count": 111
        }
      ]
    },
    {
      "cell_type": "markdown",
      "source": [
        "## Criando dataframe e exportando arquivo. csv"
      ],
      "metadata": {
        "id": "Z9X0qMaM5zsv"
      }
    },
    {
      "cell_type": "code",
      "source": [
        "dfCapitais = pd.DataFrame.from_dict(dictCapitaisTabela).T"
      ],
      "metadata": {
        "id": "SkynAUlB5qsd"
      },
      "execution_count": 113,
      "outputs": []
    },
    {
      "cell_type": "code",
      "source": [
        "dfCapitais.to_csv(\"capitais.csv\")"
      ],
      "metadata": {
        "id": "YLuWQ8qt6f52"
      },
      "execution_count": 115,
      "outputs": []
    },
    {
      "cell_type": "code",
      "source": [
        "dfCapitais"
      ],
      "metadata": {
        "colab": {
          "base_uri": "https://localhost:8080/",
          "height": 896
        },
        "id": "e8wIwyy66XFw",
        "outputId": "61d83c35-5251-474a-ff42-39eff7000bb3"
      },
      "execution_count": 114,
      "outputs": [
        {
          "output_type": "execute_result",
          "data": {
            "text/plain": [
              "                sede     ibge                   uf        area\n",
              "1        Porto Velho  1100205             Rondônia  34 090,952\n",
              "2             Manaus  1302603             Amazonas  11 401,092\n",
              "3         Rio Branco  1200401                 Acre   8 834,942\n",
              "4       Campo Grande  5002704   Mato Grosso do Sul   8 082,978\n",
              "5             Macapá  1600303                Amapá   6 563,849\n",
              "6           Brasília  5300108     Distrito Federal   5 760,783\n",
              "7          Boa Vista  1400100              Roraima   5 687,037\n",
              "8             Cuiabá  5103403          Mato Grosso   3 266,538\n",
              "9             Palmas  1721000            Tocantins   2 227,444\n",
              "10         São Paulo  3550308            São Paulo   1 521,110\n",
              "11          Teresina  2211001                Piauí   1 391,046\n",
              "12    Rio de Janeiro  3304557       Rio de Janeiro   1 200,329\n",
              "13             Belém  1501402                 Pará   1 059,466\n",
              "14           Goiânia  5208707                Goiás     728,841\n",
              "15  Salvador[nota 1]  2927408                Bahia     693,453\n",
              "16     Florianópolis  4205407       Santa Catarina     674,844\n",
              "17          São Luís  2111300             Maranhão     582,974\n",
              "18            Maceió  2704302              Alagoas     509,320\n",
              "19      Porto Alegre  4314902    Rio Grande do Sul     495,390\n",
              "20          Curitiba  4106902               Paraná     434,892\n",
              "21    Belo Horizonte  3106200         Minas Gerais     331,354\n",
              "22         Fortaleza  2304400                Ceará     312,353\n",
              "23            Recife  2611606           Pernambuco     218,843\n",
              "24       João Pessoa  2507507              Paraíba     210,044\n",
              "25           Aracaju  2800308              Sergipe     182,163\n",
              "26             Natal  2408102  Rio Grande do Norte     167,401\n",
              "27           Vitória  3205309       Espírito Santo      97,123"
            ],
            "text/html": [
              "\n",
              "  <div id=\"df-d456ca64-396e-42cd-82f8-da3a87ea50da\">\n",
              "    <div class=\"colab-df-container\">\n",
              "      <div>\n",
              "<style scoped>\n",
              "    .dataframe tbody tr th:only-of-type {\n",
              "        vertical-align: middle;\n",
              "    }\n",
              "\n",
              "    .dataframe tbody tr th {\n",
              "        vertical-align: top;\n",
              "    }\n",
              "\n",
              "    .dataframe thead th {\n",
              "        text-align: right;\n",
              "    }\n",
              "</style>\n",
              "<table border=\"1\" class=\"dataframe\">\n",
              "  <thead>\n",
              "    <tr style=\"text-align: right;\">\n",
              "      <th></th>\n",
              "      <th>sede</th>\n",
              "      <th>ibge</th>\n",
              "      <th>uf</th>\n",
              "      <th>area</th>\n",
              "    </tr>\n",
              "  </thead>\n",
              "  <tbody>\n",
              "    <tr>\n",
              "      <th>1</th>\n",
              "      <td>Porto Velho</td>\n",
              "      <td>1100205</td>\n",
              "      <td>Rondônia</td>\n",
              "      <td>34 090,952</td>\n",
              "    </tr>\n",
              "    <tr>\n",
              "      <th>2</th>\n",
              "      <td>Manaus</td>\n",
              "      <td>1302603</td>\n",
              "      <td>Amazonas</td>\n",
              "      <td>11 401,092</td>\n",
              "    </tr>\n",
              "    <tr>\n",
              "      <th>3</th>\n",
              "      <td>Rio Branco</td>\n",
              "      <td>1200401</td>\n",
              "      <td>Acre</td>\n",
              "      <td>8 834,942</td>\n",
              "    </tr>\n",
              "    <tr>\n",
              "      <th>4</th>\n",
              "      <td>Campo Grande</td>\n",
              "      <td>5002704</td>\n",
              "      <td>Mato Grosso do Sul</td>\n",
              "      <td>8 082,978</td>\n",
              "    </tr>\n",
              "    <tr>\n",
              "      <th>5</th>\n",
              "      <td>Macapá</td>\n",
              "      <td>1600303</td>\n",
              "      <td>Amapá</td>\n",
              "      <td>6 563,849</td>\n",
              "    </tr>\n",
              "    <tr>\n",
              "      <th>6</th>\n",
              "      <td>Brasília</td>\n",
              "      <td>5300108</td>\n",
              "      <td>Distrito Federal</td>\n",
              "      <td>5 760,783</td>\n",
              "    </tr>\n",
              "    <tr>\n",
              "      <th>7</th>\n",
              "      <td>Boa Vista</td>\n",
              "      <td>1400100</td>\n",
              "      <td>Roraima</td>\n",
              "      <td>5 687,037</td>\n",
              "    </tr>\n",
              "    <tr>\n",
              "      <th>8</th>\n",
              "      <td>Cuiabá</td>\n",
              "      <td>5103403</td>\n",
              "      <td>Mato Grosso</td>\n",
              "      <td>3 266,538</td>\n",
              "    </tr>\n",
              "    <tr>\n",
              "      <th>9</th>\n",
              "      <td>Palmas</td>\n",
              "      <td>1721000</td>\n",
              "      <td>Tocantins</td>\n",
              "      <td>2 227,444</td>\n",
              "    </tr>\n",
              "    <tr>\n",
              "      <th>10</th>\n",
              "      <td>São Paulo</td>\n",
              "      <td>3550308</td>\n",
              "      <td>São Paulo</td>\n",
              "      <td>1 521,110</td>\n",
              "    </tr>\n",
              "    <tr>\n",
              "      <th>11</th>\n",
              "      <td>Teresina</td>\n",
              "      <td>2211001</td>\n",
              "      <td>Piauí</td>\n",
              "      <td>1 391,046</td>\n",
              "    </tr>\n",
              "    <tr>\n",
              "      <th>12</th>\n",
              "      <td>Rio de Janeiro</td>\n",
              "      <td>3304557</td>\n",
              "      <td>Rio de Janeiro</td>\n",
              "      <td>1 200,329</td>\n",
              "    </tr>\n",
              "    <tr>\n",
              "      <th>13</th>\n",
              "      <td>Belém</td>\n",
              "      <td>1501402</td>\n",
              "      <td>Pará</td>\n",
              "      <td>1 059,466</td>\n",
              "    </tr>\n",
              "    <tr>\n",
              "      <th>14</th>\n",
              "      <td>Goiânia</td>\n",
              "      <td>5208707</td>\n",
              "      <td>Goiás</td>\n",
              "      <td>728,841</td>\n",
              "    </tr>\n",
              "    <tr>\n",
              "      <th>15</th>\n",
              "      <td>Salvador[nota 1]</td>\n",
              "      <td>2927408</td>\n",
              "      <td>Bahia</td>\n",
              "      <td>693,453</td>\n",
              "    </tr>\n",
              "    <tr>\n",
              "      <th>16</th>\n",
              "      <td>Florianópolis</td>\n",
              "      <td>4205407</td>\n",
              "      <td>Santa Catarina</td>\n",
              "      <td>674,844</td>\n",
              "    </tr>\n",
              "    <tr>\n",
              "      <th>17</th>\n",
              "      <td>São Luís</td>\n",
              "      <td>2111300</td>\n",
              "      <td>Maranhão</td>\n",
              "      <td>582,974</td>\n",
              "    </tr>\n",
              "    <tr>\n",
              "      <th>18</th>\n",
              "      <td>Maceió</td>\n",
              "      <td>2704302</td>\n",
              "      <td>Alagoas</td>\n",
              "      <td>509,320</td>\n",
              "    </tr>\n",
              "    <tr>\n",
              "      <th>19</th>\n",
              "      <td>Porto Alegre</td>\n",
              "      <td>4314902</td>\n",
              "      <td>Rio Grande do Sul</td>\n",
              "      <td>495,390</td>\n",
              "    </tr>\n",
              "    <tr>\n",
              "      <th>20</th>\n",
              "      <td>Curitiba</td>\n",
              "      <td>4106902</td>\n",
              "      <td>Paraná</td>\n",
              "      <td>434,892</td>\n",
              "    </tr>\n",
              "    <tr>\n",
              "      <th>21</th>\n",
              "      <td>Belo Horizonte</td>\n",
              "      <td>3106200</td>\n",
              "      <td>Minas Gerais</td>\n",
              "      <td>331,354</td>\n",
              "    </tr>\n",
              "    <tr>\n",
              "      <th>22</th>\n",
              "      <td>Fortaleza</td>\n",
              "      <td>2304400</td>\n",
              "      <td>Ceará</td>\n",
              "      <td>312,353</td>\n",
              "    </tr>\n",
              "    <tr>\n",
              "      <th>23</th>\n",
              "      <td>Recife</td>\n",
              "      <td>2611606</td>\n",
              "      <td>Pernambuco</td>\n",
              "      <td>218,843</td>\n",
              "    </tr>\n",
              "    <tr>\n",
              "      <th>24</th>\n",
              "      <td>João Pessoa</td>\n",
              "      <td>2507507</td>\n",
              "      <td>Paraíba</td>\n",
              "      <td>210,044</td>\n",
              "    </tr>\n",
              "    <tr>\n",
              "      <th>25</th>\n",
              "      <td>Aracaju</td>\n",
              "      <td>2800308</td>\n",
              "      <td>Sergipe</td>\n",
              "      <td>182,163</td>\n",
              "    </tr>\n",
              "    <tr>\n",
              "      <th>26</th>\n",
              "      <td>Natal</td>\n",
              "      <td>2408102</td>\n",
              "      <td>Rio Grande do Norte</td>\n",
              "      <td>167,401</td>\n",
              "    </tr>\n",
              "    <tr>\n",
              "      <th>27</th>\n",
              "      <td>Vitória</td>\n",
              "      <td>3205309</td>\n",
              "      <td>Espírito Santo</td>\n",
              "      <td>97,123</td>\n",
              "    </tr>\n",
              "  </tbody>\n",
              "</table>\n",
              "</div>\n",
              "      <button class=\"colab-df-convert\" onclick=\"convertToInteractive('df-d456ca64-396e-42cd-82f8-da3a87ea50da')\"\n",
              "              title=\"Convert this dataframe to an interactive table.\"\n",
              "              style=\"display:none;\">\n",
              "        \n",
              "  <svg xmlns=\"http://www.w3.org/2000/svg\" height=\"24px\"viewBox=\"0 0 24 24\"\n",
              "       width=\"24px\">\n",
              "    <path d=\"M0 0h24v24H0V0z\" fill=\"none\"/>\n",
              "    <path d=\"M18.56 5.44l.94 2.06.94-2.06 2.06-.94-2.06-.94-.94-2.06-.94 2.06-2.06.94zm-11 1L8.5 8.5l.94-2.06 2.06-.94-2.06-.94L8.5 2.5l-.94 2.06-2.06.94zm10 10l.94 2.06.94-2.06 2.06-.94-2.06-.94-.94-2.06-.94 2.06-2.06.94z\"/><path d=\"M17.41 7.96l-1.37-1.37c-.4-.4-.92-.59-1.43-.59-.52 0-1.04.2-1.43.59L10.3 9.45l-7.72 7.72c-.78.78-.78 2.05 0 2.83L4 21.41c.39.39.9.59 1.41.59.51 0 1.02-.2 1.41-.59l7.78-7.78 2.81-2.81c.8-.78.8-2.07 0-2.86zM5.41 20L4 18.59l7.72-7.72 1.47 1.35L5.41 20z\"/>\n",
              "  </svg>\n",
              "      </button>\n",
              "      \n",
              "  <style>\n",
              "    .colab-df-container {\n",
              "      display:flex;\n",
              "      flex-wrap:wrap;\n",
              "      gap: 12px;\n",
              "    }\n",
              "\n",
              "    .colab-df-convert {\n",
              "      background-color: #E8F0FE;\n",
              "      border: none;\n",
              "      border-radius: 50%;\n",
              "      cursor: pointer;\n",
              "      display: none;\n",
              "      fill: #1967D2;\n",
              "      height: 32px;\n",
              "      padding: 0 0 0 0;\n",
              "      width: 32px;\n",
              "    }\n",
              "\n",
              "    .colab-df-convert:hover {\n",
              "      background-color: #E2EBFA;\n",
              "      box-shadow: 0px 1px 2px rgba(60, 64, 67, 0.3), 0px 1px 3px 1px rgba(60, 64, 67, 0.15);\n",
              "      fill: #174EA6;\n",
              "    }\n",
              "\n",
              "    [theme=dark] .colab-df-convert {\n",
              "      background-color: #3B4455;\n",
              "      fill: #D2E3FC;\n",
              "    }\n",
              "\n",
              "    [theme=dark] .colab-df-convert:hover {\n",
              "      background-color: #434B5C;\n",
              "      box-shadow: 0px 1px 3px 1px rgba(0, 0, 0, 0.15);\n",
              "      filter: drop-shadow(0px 1px 2px rgba(0, 0, 0, 0.3));\n",
              "      fill: #FFFFFF;\n",
              "    }\n",
              "  </style>\n",
              "\n",
              "      <script>\n",
              "        const buttonEl =\n",
              "          document.querySelector('#df-d456ca64-396e-42cd-82f8-da3a87ea50da button.colab-df-convert');\n",
              "        buttonEl.style.display =\n",
              "          google.colab.kernel.accessAllowed ? 'block' : 'none';\n",
              "\n",
              "        async function convertToInteractive(key) {\n",
              "          const element = document.querySelector('#df-d456ca64-396e-42cd-82f8-da3a87ea50da');\n",
              "          const dataTable =\n",
              "            await google.colab.kernel.invokeFunction('convertToInteractive',\n",
              "                                                     [key], {});\n",
              "          if (!dataTable) return;\n",
              "\n",
              "          const docLinkHtml = 'Like what you see? Visit the ' +\n",
              "            '<a target=\"_blank\" href=https://colab.research.google.com/notebooks/data_table.ipynb>data table notebook</a>'\n",
              "            + ' to learn more about interactive tables.';\n",
              "          element.innerHTML = '';\n",
              "          dataTable['output_type'] = 'display_data';\n",
              "          await google.colab.output.renderOutput(dataTable, element);\n",
              "          const docLink = document.createElement('div');\n",
              "          docLink.innerHTML = docLinkHtml;\n",
              "          element.appendChild(docLink);\n",
              "        }\n",
              "      </script>\n",
              "    </div>\n",
              "  </div>\n",
              "  "
            ]
          },
          "metadata": {},
          "execution_count": 114
        }
      ]
    }
  ]
}