{
  "nbformat": 4,
  "nbformat_minor": 0,
  "metadata": {
    "colab": {
      "name": "Aula 28b - ferkrum twitter + dict lexico",
      "provenance": [],
      "collapsed_sections": [],
      "toc_visible": true,
      "authorship_tag": "ABX9TyNVRa4SLn5Q/J3tYQ4hlTvp",
      "include_colab_link": true
    },
    "kernelspec": {
      "name": "python3",
      "display_name": "Python 3"
    },
    "language_info": {
      "name": "python"
    }
  },
  "cells": [
    {
      "cell_type": "markdown",
      "metadata": {
        "id": "view-in-github",
        "colab_type": "text"
      },
      "source": [
        "<a href=\"https://colab.research.google.com/github/ferkrum/DS-Notebooks/blob/main/Aula_28b_ferkrum_twitter_%2B_dict_lexico.ipynb\" target=\"_parent\"><img src=\"https://colab.research.google.com/assets/colab-badge.svg\" alt=\"Open In Colab\"/></a>"
      ]
    },
    {
      "cell_type": "markdown",
      "source": [
        "# DESAFIO:\n",
        "* Utilizando a api do Twitter:\n",
        "  * ~~escolha um usuário ou tema (pt-br)~~\n",
        "  * ~~utilize o dicionário léxico da última aula~~\n",
        "  * ~~aplicar um classificador de sentimentos, nos tweets obtidos~~\n",
        "\n",
        "* Problemas que irão encontrar:\n",
        "  * Problemas na escrita\n",
        "\n",
        "* Técnicas (tanto nos tweets quanto no dicionário):\n",
        "  * ~~colocar todas as palavras em minúsculo~~\n",
        "  * remover stopwords\n",
        "  * ~~remover todos os acentos~~\n",
        "  * ~~transformar palavras como vc em você~~\n",
        "  * plus: utilizar apenas o radical (lemma, stemming)"
      ],
      "metadata": {
        "id": "hygzH9oA_AuY"
      }
    },
    {
      "cell_type": "markdown",
      "source": [
        "# Obtendo dicionário lexico (lexiconPT)"
      ],
      "metadata": {
        "id": "zf63ix21rDMX"
      }
    },
    {
      "cell_type": "code",
      "source": [
        "URL_RAW = 'https://raw.githubusercontent.com/sillasgonzaga/lexiconPT/master/data-raw/SentiLex-lem-PT02.txt'\n",
        "\n",
        "#importando dicionario\n",
        "import requests\n",
        "response = requests.get(URL_RAW)\n",
        "#usando o método .text para obter o texto de response\n",
        "response = requests.get(URL_RAW).text\n",
        "#quebrando nas novas linhas. transforma a string em um array\n",
        "response = response.split('\\n')"
      ],
      "metadata": {
        "id": "QoPvQJR-pjOe"
      },
      "execution_count": 17,
      "outputs": []
    },
    {
      "cell_type": "markdown",
      "source": [
        "## Montando o dicionário lexico"
      ],
      "metadata": {
        "id": "Bnv7gwmarOK6"
      }
    },
    {
      "cell_type": "code",
      "source": [
        "dict = {}\n",
        "for x in response:\n",
        "  palavra = x.split(\".\")[0]\n",
        "  peso = x.split(\";\")[2].split(\"=\")[1]\n",
        "  dict[palavra]=int(peso)"
      ],
      "metadata": {
        "id": "wqMRStldpxJ2"
      },
      "execution_count": 18,
      "outputs": []
    },
    {
      "cell_type": "code",
      "source": [
        "#modelo de request\n",
        "dict.get('abraco',0)"
      ],
      "metadata": {
        "colab": {
          "base_uri": "https://localhost:8080/"
        },
        "id": "APWW3wdcqMyw",
        "outputId": "fb7620d5-b5a1-4556-cc80-5d67f1abb48d"
      },
      "execution_count": 25,
      "outputs": [
        {
          "output_type": "execute_result",
          "data": {
            "text/plain": [
              "0"
            ]
          },
          "metadata": {},
          "execution_count": 25
        }
      ]
    },
    {
      "cell_type": "markdown",
      "source": [
        "# Funções para filtrar texto"
      ],
      "metadata": {
        "id": "E1a1Z_Nz2azV"
      }
    },
    {
      "cell_type": "code",
      "source": [
        "import re #regex\n",
        "import string #para remover pontuações (ref: https://www.geeksforgeeks.org/python-extract-words-from-given-string/)"
      ],
      "metadata": {
        "id": "S7OCFaIu2n3C"
      },
      "execution_count": 78,
      "outputs": []
    },
    {
      "cell_type": "code",
      "source": [
        "#instalando unidecode para remover acentos conforme (https://www.geeksforgeeks.org/how-to-remove-string-accents-using-python-3/?ref=gcse)\n",
        "!pip install unidecode"
      ],
      "metadata": {
        "colab": {
          "base_uri": "https://localhost:8080/"
        },
        "id": "n0_zxcUN4yBL",
        "outputId": "b4734e0d-38f4-4b5c-fc22-f1c694c36d33"
      },
      "execution_count": 81,
      "outputs": [
        {
          "output_type": "stream",
          "name": "stdout",
          "text": [
            "Looking in indexes: https://pypi.org/simple, https://us-python.pkg.dev/colab-wheels/public/simple/\n",
            "Collecting unidecode\n",
            "  Downloading Unidecode-1.3.4-py3-none-any.whl (235 kB)\n",
            "\u001b[K     |████████████████████████████████| 235 kB 31.8 MB/s \n",
            "\u001b[?25hInstalling collected packages: unidecode\n",
            "Successfully installed unidecode-1.3.4\n"
          ]
        }
      ]
    },
    {
      "cell_type": "code",
      "source": [
        "import unidecode as uni #para remover acentos da string"
      ],
      "metadata": {
        "id": "kV0z--oE5eQI"
      },
      "execution_count": 88,
      "outputs": []
    },
    {
      "cell_type": "code",
      "source": [
        "#ref de: https://www.geeksforgeeks.org/python-extract-words-from-given-string/\n",
        "\n",
        "def limpa_texto(s):\n",
        "  s = uni.unidecode(s) #remove acentos\n",
        "  result = re.sub('['+string.punctuation+']', '', s.lower()).split()  \n",
        "  return result"
      ],
      "metadata": {
        "id": "iJ3ztUQw20KP"
      },
      "execution_count": 92,
      "outputs": []
    },
    {
      "cell_type": "code",
      "source": [
        "#teste\n",
        "limpa_texto('coração melão çãõ')"
      ],
      "metadata": {
        "colab": {
          "base_uri": "https://localhost:8080/"
        },
        "id": "fVTvGxTk6Mni",
        "outputId": "03e98142-4b8b-4686-cab9-061d46959646"
      },
      "execution_count": 94,
      "outputs": [
        {
          "output_type": "execute_result",
          "data": {
            "text/plain": [
              "['coracao', 'melao', 'cao']"
            ]
          },
          "metadata": {},
          "execution_count": 94
        }
      ]
    },
    {
      "cell_type": "code",
      "source": [
        "#dicionario para converter abreviações de palavras em palavras completas\n"
      ],
      "metadata": {
        "id": "PvUtHupn-xi2"
      },
      "execution_count": null,
      "outputs": []
    },
    {
      "cell_type": "markdown",
      "source": [
        "## Dicionário para substituir abreviações"
      ],
      "metadata": {
        "id": "nhjgWiKe_v-Y"
      }
    },
    {
      "cell_type": "code",
      "source": [
        "dictAbrev = {'vc': 'voce', \n",
        "         'td': 'tudo', \n",
        "         'abl': 'abelha',\n",
        "         'qt': 'quanto' }\n",
        "def limpa_abrev(s):\n",
        "  return dictAbrev.get(s,s)\n"
      ],
      "metadata": {
        "id": "wIS7w10h_1XY"
      },
      "execution_count": 143,
      "outputs": []
    },
    {
      "cell_type": "code",
      "source": [
        "limpa_abrev('vc')"
      ],
      "metadata": {
        "colab": {
          "base_uri": "https://localhost:8080/",
          "height": 35
        },
        "id": "Tmg69WGYANxh",
        "outputId": "4ff7c7d4-dd61-4d0f-e35e-8810c9c88c01"
      },
      "execution_count": 132,
      "outputs": [
        {
          "output_type": "execute_result",
          "data": {
            "text/plain": [
              "'voce'"
            ],
            "application/vnd.google.colaboratory.intrinsic+json": {
              "type": "string"
            }
          },
          "metadata": {},
          "execution_count": 132
        }
      ]
    },
    {
      "cell_type": "markdown",
      "source": [
        "# Classificador Léxico (função)"
      ],
      "metadata": {
        "id": "n3scsdU6rJcn"
      }
    },
    {
      "cell_type": "code",
      "source": [
        "#copiando classificador da aula passada:\n",
        "def classificador(s):\n",
        "  s = limpa_texto(s) #prepara o texto. já entrega o texto em uma lista\n",
        "  soma = 0\n",
        "  for palavra in s:\n",
        "    palavra = limpa_abrev(palavra) #substitui as abreviacoes pelas palavras\n",
        "    polaridade = dict.get(palavra,0)\n",
        "    \n",
        "    print(palavra,'=', polaridade)\n",
        "    \n",
        "    soma += polaridade #percorre a lista s.split() usando a variavel \"palavra\". \n",
        "                                        #acumula na variável soma os valores de cada palavra. \n",
        "                                        #caso não encontre, soma \"0\" à variável.\n",
        "  print(soma)\n",
        "  if soma > 0:\n",
        "    return 'positivo'\n",
        "  elif soma == 0:\n",
        "    return 'neutro'\n",
        "  else:\n",
        "    return 'negativo'"
      ],
      "metadata": {
        "id": "rjf6RXB7kdqZ"
      },
      "execution_count": 150,
      "outputs": []
    },
    {
      "cell_type": "code",
      "source": [
        "# testando classificador\n",
        "classificador('miga, vc gosta de qt bondade?')"
      ],
      "metadata": {
        "id": "hF8xaOhCpDhS",
        "outputId": "0b0a96d7-db4c-4e1b-a685-d0844ad95703",
        "colab": {
          "base_uri": "https://localhost:8080/",
          "height": 157
        }
      },
      "execution_count": 145,
      "outputs": [
        {
          "output_type": "stream",
          "name": "stdout",
          "text": [
            "miga = 0\n",
            "voce = 0\n",
            "gosta = 0\n",
            "de = 0\n",
            "quanto = 0\n",
            "bondade = 1\n",
            "1\n"
          ]
        },
        {
          "output_type": "execute_result",
          "data": {
            "text/plain": [
              "'positivo'"
            ],
            "application/vnd.google.colaboratory.intrinsic+json": {
              "type": "string"
            }
          },
          "metadata": {},
          "execution_count": 145
        }
      ]
    },
    {
      "cell_type": "markdown",
      "source": [
        "# Codigo para conexão com Twitter:"
      ],
      "metadata": {
        "id": "BRlklAsrq-sr"
      }
    },
    {
      "cell_type": "code",
      "execution_count": null,
      "metadata": {
        "colab": {
          "base_uri": "https://localhost:8080/"
        },
        "id": "cb_yWkRyj402",
        "outputId": "af086220-3c01-4e10-a693-0175bf1ab2e0"
      },
      "outputs": [
        {
          "output_type": "stream",
          "name": "stdout",
          "text": [
            "Looking in indexes: https://pypi.org/simple, https://us-python.pkg.dev/colab-wheels/public/simple/\n",
            "Requirement already satisfied: tweepy in /usr/local/lib/python3.7/dist-packages (3.10.0)\n",
            "Requirement already satisfied: six>=1.10.0 in /usr/local/lib/python3.7/dist-packages (from tweepy) (1.15.0)\n",
            "Requirement already satisfied: requests-oauthlib>=0.7.0 in /usr/local/lib/python3.7/dist-packages (from tweepy) (1.3.1)\n",
            "Requirement already satisfied: requests[socks]>=2.11.1 in /usr/local/lib/python3.7/dist-packages (from tweepy) (2.23.0)\n",
            "Requirement already satisfied: oauthlib>=3.0.0 in /usr/local/lib/python3.7/dist-packages (from requests-oauthlib>=0.7.0->tweepy) (3.2.0)\n",
            "Requirement already satisfied: certifi>=2017.4.17 in /usr/local/lib/python3.7/dist-packages (from requests[socks]>=2.11.1->tweepy) (2022.6.15)\n",
            "Requirement already satisfied: urllib3!=1.25.0,!=1.25.1,<1.26,>=1.21.1 in /usr/local/lib/python3.7/dist-packages (from requests[socks]>=2.11.1->tweepy) (1.24.3)\n",
            "Requirement already satisfied: chardet<4,>=3.0.2 in /usr/local/lib/python3.7/dist-packages (from requests[socks]>=2.11.1->tweepy) (3.0.4)\n",
            "Requirement already satisfied: idna<3,>=2.5 in /usr/local/lib/python3.7/dist-packages (from requests[socks]>=2.11.1->tweepy) (2.10)\n",
            "Requirement already satisfied: PySocks!=1.5.7,>=1.5.6 in /usr/local/lib/python3.7/dist-packages (from requests[socks]>=2.11.1->tweepy) (1.7.1)\n"
          ]
        }
      ],
      "source": [
        "!pip install tweepy\n",
        "import tweepy as tw \n",
        "\n",
        "#dados anderson\n",
        "consumer_key = 'bZD6d3QYbsgqwkteNGoqfbQPp'\n",
        "consumer_secret = 'r6nLWRrSH9HDizbB39n2DqLbLAcZWCqDsSQtpSTHO2azNIyjae'\n",
        "access_token = '2560618594-xNBFHggcdFA3S2ntNY1hYqudT37W0AdZaBa2jZ9'\n",
        "access_token_secret = 'ExSkQ9KcXxsLhGBHmmYvRDUX0IA9q6grdMb294WCAbscI'\n",
        "bearer_token = 'AAAAAAAAAAAAAAAAAAAAAJz7YAEAAAAA%2FWRbWUJQnGLsm6zLX1UFnpld2cs%3DYroih3cDjMmcQnZDHuFm0STxsLGRov7vYhtlhq89KmeXU8TrPg'\n",
        "\n",
        "#modelo de autenticação do Anderson:\n",
        "auth = tw.OAuthHandler(consumer_key, consumer_secret)\n",
        "auth.set_access_token(access_token, access_token_secret)\n",
        "api = tw.API(auth)"
      ]
    },
    {
      "cell_type": "markdown",
      "source": [
        "# Query para o twitter:"
      ],
      "metadata": {
        "id": "MruQxp2Qup5A"
      }
    },
    {
      "cell_type": "code",
      "source": [
        "#escolhi o Randolfe Rodrigues porque hoje foi aprovada a CPI do MEC. (28/jun/2022)\n",
        "tweets = api.user_timeline(screen_name='randolfeap', count=10)"
      ],
      "metadata": {
        "id": "jjnz4k3coas_"
      },
      "execution_count": 146,
      "outputs": []
    },
    {
      "cell_type": "code",
      "source": [
        "for tweet in tweets:\n",
        "  print(tweet.text.lower(),'\\n')"
      ],
      "metadata": {
        "colab": {
          "base_uri": "https://localhost:8080/"
        },
        "id": "nUm0T-BLk7kH",
        "outputId": "fc956950-456a-4e39-d959-af3121eb48bc"
      },
      "execution_count": 101,
      "outputs": [
        {
          "output_type": "stream",
          "name": "stdout",
          "text": [
            "cpi do mec protocolada! vamos ao trabalho! #cpidomec https://t.co/rb02wdchrv \n",
            "\n",
            "agora contamos com 31 assinaturas, após o registro do senador @jarbas156. a tendência é aumentar! continuamos na lu… https://t.co/efvnn1p2bw \n",
            "\n",
            "acabamos de protocolar o requerimento da #cpidomec. o protocolo ocorreu com 30 assinaturas, após o registro da assi… https://t.co/2ytmzcg51r \n",
            "\n",
            "atenção! logo mais, às 12h, vamos protocolar o requerimento para a criação da cpi do mec. em seguida, iremos conced… https://t.co/ezzvnjlix0 \n",
            "\n",
            "é um absurdo, por exemplo, que qualquer instituição se preste ao papel de interferir no nosso processo democrático,… https://t.co/xmhkjyqout \n",
            "\n",
            "a fome, o desemprego, a carestia, a inflação, nada disso é um processo natural. é um processo político. quando o po… https://t.co/aixydhltjd \n",
            "\n",
            "atenção! acabo de acionar o stf para que o celular do ex-presidente da petrobras seja imediatamente apreendido e pe… https://t.co/hi4r4jkk1u \n",
            "\n",
            "precisamos passar a limpo toda corrupção desse governo!\n",
            "\n",
            "todos os pré-requisitos para a instalação da cpi do mec es… https://t.co/3oherxtjzr \n",
            "\n",
            "inflação, desemprego, fome: cerca de 10 milhões de pessoas não consegue mais comprar nem 2 pratos feitos por mês. a… https://t.co/dnhwqjejqh \n",
            "\n",
            "🚨 corrupção no governo bolsonaro!🚨\n",
            "\n",
            "diante das últimas notícias, a #cpidomec se faz cada vez mais necessária. além… https://t.co/xytuyuphsl \n",
            "\n"
          ]
        }
      ]
    },
    {
      "cell_type": "markdown",
      "source": [
        "# Teste tweets"
      ],
      "metadata": {
        "id": "hvcsA0H5tZdJ"
      }
    },
    {
      "cell_type": "code",
      "source": [
        "tweets[0].text"
      ],
      "metadata": {
        "colab": {
          "base_uri": "https://localhost:8080/",
          "height": 53
        },
        "id": "KvaPSMWGrYNL",
        "outputId": "10de5ef5-0ae9-4c57-f666-42ca5ba185e3"
      },
      "execution_count": 151,
      "outputs": [
        {
          "output_type": "execute_result",
          "data": {
            "text/plain": [
              "'Depois de uma semana de notícias devastadoras sobre violência sexual, surge mais uma! São graves as acusações contr… https://t.co/AN6wZFRQ0w'"
            ],
            "application/vnd.google.colaboratory.intrinsic+json": {
              "type": "string"
            }
          },
          "metadata": {},
          "execution_count": 151
        }
      ]
    },
    {
      "cell_type": "markdown",
      "source": [
        "# Teste classificador"
      ],
      "metadata": {
        "id": "d9a3gr5Ls-NV"
      }
    },
    {
      "cell_type": "code",
      "source": [
        "#teste classificador\n",
        "classificador('violento')"
      ],
      "metadata": {
        "colab": {
          "base_uri": "https://localhost:8080/",
          "height": 70
        },
        "id": "ZGUQsd6drmF0",
        "outputId": "cab7b60f-384b-420e-ed60-60d6bc898076"
      },
      "execution_count": 154,
      "outputs": [
        {
          "output_type": "stream",
          "name": "stdout",
          "text": [
            "violento = -1\n",
            "-1\n"
          ]
        },
        {
          "output_type": "execute_result",
          "data": {
            "text/plain": [
              "'negativo'"
            ],
            "application/vnd.google.colaboratory.intrinsic+json": {
              "type": "string"
            }
          },
          "metadata": {},
          "execution_count": 154
        }
      ]
    },
    {
      "cell_type": "code",
      "source": [
        "classificador(tweets[8].text)"
      ],
      "metadata": {
        "colab": {
          "base_uri": "https://localhost:8080/",
          "height": 53
        },
        "id": "wtf0CnhfonBU",
        "outputId": "67a50b81-a9f9-4018-aec1-1fe635075cd0"
      },
      "execution_count": 115,
      "outputs": [
        {
          "output_type": "stream",
          "name": "stdout",
          "text": [
            "-2\n"
          ]
        },
        {
          "output_type": "execute_result",
          "data": {
            "text/plain": [
              "'negativo'"
            ],
            "application/vnd.google.colaboratory.intrinsic+json": {
              "type": "string"
            }
          },
          "metadata": {},
          "execution_count": 115
        }
      ]
    },
    {
      "cell_type": "code",
      "source": [
        "#Aplicando dentro do Loop For: \n",
        "for tweet in tweets:\n",
        "  print(tweet.text,'\\n')"
      ],
      "metadata": {
        "id": "aTiMnXYYrzO1"
      },
      "execution_count": null,
      "outputs": []
    }
  ]
}