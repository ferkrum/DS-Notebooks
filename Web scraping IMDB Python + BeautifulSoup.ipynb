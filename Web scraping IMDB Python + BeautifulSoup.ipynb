{
  "nbformat": 4,
  "nbformat_minor": 0,
  "metadata": {
    "colab": {
      "name": "Aula 31 - Acessando_Paginas_02.ipynb",
      "provenance": [],
      "collapsed_sections": [],
      "include_colab_link": true
    },
    "kernelspec": {
      "name": "python3",
      "display_name": "Python 3"
    },
    "language_info": {
      "name": "python"
    }
  },
  "cells": [
    {
      "cell_type": "markdown",
      "metadata": {
        "id": "view-in-github",
        "colab_type": "text"
      },
      "source": [
        "<a href=\"https://colab.research.google.com/github/ferkrum/DS-Notebooks/blob/main/Web%20scraping%20de%20lancamentos%20IMDB%20com%20Python%20%2B%20BeautifulSoup.ipynb\" target=\"_parent\"><img src=\"https://colab.research.google.com/assets/colab-badge.svg\" alt=\"Open In Colab\"/></a>"
      ]
    },
    {
      "cell_type": "markdown",
      "source": [
        "# Web scraping de lançamentos do IMDB com Python + BeautifulSoup"
      ],
      "metadata": {
        "id": "Dbgj36qCYhtj"
      }
    },
    {
      "cell_type": "code",
      "source": [
        "#Importa bibliotecas\n",
        "import requests\n",
        "from bs4 import BeautifulSoup"
      ],
      "metadata": {
        "id": "09arNANt-8c5"
      },
      "execution_count": 43,
      "outputs": []
    },
    {
      "cell_type": "code",
      "source": [
        "# parsing\n",
        "response = requests.get('https://www.imdb.com/calendar/?ref_=nv_mv_cal').content\n",
        "soup = BeautifulSoup(response, 'html.parser')"
      ],
      "metadata": {
        "id": "LQzwdMLgTK8N"
      },
      "execution_count": 44,
      "outputs": []
    },
    {
      "cell_type": "code",
      "source": [
        "#verifica conteúdo do parser\n",
        "soup"
      ],
      "metadata": {
        "id": "H4M9iHwvdzJK"
      },
      "execution_count": null,
      "outputs": []
    },
    {
      "cell_type": "markdown",
      "source": [
        "Abrindo a URL no navegador, inspecionamos o código e identificamos as tags relacionadas ao conteúdo buscado: div id=main"
      ],
      "metadata": {
        "id": "tTYTCI2bZwXQ"
      }
    },
    {
      "cell_type": "code",
      "source": [
        "lancamentos = soup.find(\"div\",id=\"main\")"
      ],
      "metadata": {
        "id": "vO8meLrrd0dZ"
      },
      "execution_count": 46,
      "outputs": []
    },
    {
      "cell_type": "code",
      "source": [
        "#checa conteudo filtrado em lancamentos\n",
        "lancamentos"
      ],
      "metadata": {
        "id": "TSspYD5Lc3AP"
      },
      "execution_count": null,
      "outputs": []
    },
    {
      "cell_type": "code",
      "source": [
        "#armazena quantidade de filmes\n",
        "qtdadeFilmes = len(lancamentos.find_all(\"a\"))"
      ],
      "metadata": {
        "id": "TvexGG4Gu-3A"
      },
      "execution_count": 48,
      "outputs": []
    },
    {
      "cell_type": "code",
      "source": [
        "#armazena informações em um dicionáriodictLancamentos = {}\n",
        "indice = 0\n",
        "dictLancamentos = {}\n",
        "for i in lancamentos.find_all(\"a\"): #percorre a lista de links de lancamentos\n",
        "  indice+=1\n",
        "  print (indice, \" de \", qtdadeFilmes)\n",
        "  response2 = requests.get(\"https://www.imdb.com\"+i[\"href\"]).content  #cria novo request para a url contida em cada elemento \"href\", ou seja, ira obter o conteúdo de cada página associada a cada novo filme da página\n",
        "  soup2 = BeautifulSoup(response2, 'html.parser')                     #parser do conteúdo\n",
        "  print(\"dados do filme: \", i.text)\n",
        "  sinopse = soup2.find(\"span\",class_=\"sc-16ede01-2 gXUyNh\").text      #armazena em sinopse o conteudo obtido em cada pagina\n",
        "  dictLancamentos[indice] = {\"nome\" : i.text, \"url\" : \"https://www.imdb.com\"+i[\"href\"], \"sinopse\" : sinopse}"
      ],
      "metadata": {
        "id": "bdkGAaLb1XiP"
      },
      "execution_count": null,
      "outputs": []
    },
    {
      "cell_type": "code",
      "source": [
        "import pandas as pd"
      ],
      "metadata": {
        "id": "UPyklCsNyxkD"
      },
      "execution_count": null,
      "outputs": []
    },
    {
      "cell_type": "code",
      "source": [
        "dfFilmes = pd.DataFrame.from_dict(dictLancamentos).T"
      ],
      "metadata": {
        "id": "Nq6-_v_h6fYj"
      },
      "execution_count": null,
      "outputs": []
    },
    {
      "cell_type": "code",
      "source": [
        "#exporta para CSV\n",
        "pd.DataFrame.from_dict(dictLancamentos).T.to_csv('lancamentos.csv')"
      ],
      "metadata": {
        "id": "13P0IuyVfqLu"
      },
      "execution_count": null,
      "outputs": []
    },
    {
      "cell_type": "code",
      "source": [
        "dfFilmes"
      ],
      "metadata": {
        "id": "eCjXN6HXBknH"
      },
      "execution_count": null,
      "outputs": []
    }
  ]
}
