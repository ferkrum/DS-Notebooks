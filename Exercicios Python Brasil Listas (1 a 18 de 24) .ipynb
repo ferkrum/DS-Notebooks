{
  "cells": [
    {
      "cell_type": "markdown",
      "metadata": {
        "id": "view-in-github",
        "colab_type": "text"
      },
      "source": [
        "<a href=\"https://colab.research.google.com/github/ferkrum/DS-Notebooks/blob/main/Exercicios%20Python%20Brasil%20Listas%20(1%20a%2018%20de%2024)%20.ipynb\" target=\"_parent\"><img src=\"https://colab.research.google.com/assets/colab-badge.svg\" alt=\"Open In Colab\"/></a>"
      ]
    },
    {
      "cell_type": "markdown",
      "metadata": {
        "id": "ArmF3-pvaQuf"
      },
      "source": [
        "# Exercicios Python Brasil (Listas):\n",
        "Resolver todos os exercícios de  **[listas](https://wiki.python.org.br/ExerciciosListas)** e **funções** da [Python Brasil](https://wiki.python.org.br/ListaDeExercicios:\n",
        "\n",
        "Um exemplo de correções [aqui](hhttps://github.com/selatotal/pythonBrasilExercicios/tree/master/04_Listas).\n"
      ]
    },
    {
      "cell_type": "markdown",
      "metadata": {
        "id": "Q9E7svPKI6Mj"
      },
      "source": [
        "\n",
        "\n",
        "Faça um Programa que leia um vetor de 5 números inteiros, mostre a soma, a multiplicação e os números.\n",
        "Faça um Programa que peça a idade e a altura de 5 pessoas, armazene cada informação no seu respectivo vetor. Imprima a idade e a altura na ordem inversa a ordem lida.\n",
        "Faça um Programa que leia um vetor A com 10 números inteiros, calcule e mostre a soma dos quadrados dos elementos do vetor.\n",
        "Faça um Programa que leia dois vetores com 10 elementos cada. Gere um terceiro vetor de 20 elementos, cujos valores deverão ser compostos pelos elementos intercalados dos dois outros vetores."
      ]
    },
    {
      "cell_type": "markdown",
      "metadata": {
        "id": "fGP4hv83IQ8f"
      },
      "source": [
        "# Listas:"
      ]
    },
    {
      "cell_type": "markdown",
      "metadata": {
        "id": "aOeIIiU2m6dA"
      },
      "source": [
        "## 01.Faça um Programa que leia um vetor de 5 números inteiros e mostre-os."
      ]
    },
    {
      "cell_type": "code",
      "execution_count": null,
      "metadata": {
        "id": "I28_G0hcIicW"
      },
      "outputs": [],
      "source": [
        "vetor = [1, 2, 3, 4, 5]\n",
        "for i in vetor:\n",
        "  print (i)"
      ]
    },
    {
      "cell_type": "markdown",
      "metadata": {
        "id": "o8ZOVp4rIrys"
      },
      "source": [
        ""
      ]
    },
    {
      "cell_type": "markdown",
      "metadata": {
        "id": "BhO6JqqwjDJ1"
      },
      "source": [
        "## 02.Faça um Programa que leia um vetor de 10 números reais e mostre-os na ordem inversa."
      ]
    },
    {
      "cell_type": "code",
      "execution_count": null,
      "metadata": {
        "colab": {
          "base_uri": "https://localhost:8080/"
        },
        "id": "EmntTHycjFzF",
        "outputId": "7d00f22c-a8ff-4ff1-d8d4-254633cb60fd"
      },
      "outputs": [
        {
          "output_type": "stream",
          "name": "stdout",
          "text": [
            "Insira um elemento 1\n",
            "Insira um elemento 2\n",
            "Insira um elemento 3\n",
            "['3', '2', '1']\n"
          ]
        }
      ],
      "source": [
        "vetor2 = []\n",
        "for i in range(0, 3):\n",
        "  #print('Insira elemento', i+1) \n",
        "  vetor2.append(input('Insira um elemento '))\n",
        "\n",
        "vetor2.reverse()\n",
        "print(vetor2)\n"
      ]
    },
    {
      "cell_type": "markdown",
      "source": [
        "##03.Faça um Programa que leia 4 notas, mostre as notas e a média na tela."
      ],
      "metadata": {
        "id": "4N4HbSxXBXs8"
      }
    },
    {
      "cell_type": "code",
      "source": [
        "notas = []\n",
        "contador = 0\n",
        "soma = 0.0 #inicializa variavel soma como float\n",
        "for i in range(0,4):\n",
        "  contador= int(contador) + 1\n",
        "  notas.append(float(input('Digite a nota ' + str(contador) + ': ')))\n",
        "  soma = soma + notas[i]\n",
        "print('A média das notas é: ', soma / 4)\n"
      ],
      "metadata": {
        "colab": {
          "base_uri": "https://localhost:8080/"
        },
        "id": "lF6yK8fXBdH7",
        "outputId": "09017ba2-da58-47a4-ecb5-2549478e2e00"
      },
      "execution_count": null,
      "outputs": [
        {
          "output_type": "stream",
          "name": "stdout",
          "text": [
            "digite a nota 1: 1\n",
            "digite a nota 2: 2\n",
            "digite a nota 3: 3\n",
            "digite a nota 4: 4\n",
            "A média das notas é:  2.5\n"
          ]
        }
      ]
    },
    {
      "cell_type": "markdown",
      "source": [
        "##04.Faça um Programa que leia um vetor de 10 caracteres, e diga quantas consoantes foram lidas. Imprima as consoantes."
      ],
      "metadata": {
        "id": "6aB1CG_2RWS6"
      }
    },
    {
      "cell_type": "code",
      "source": [
        "vetor10char = []\n",
        "vogais = ['a', 'e', 'i', 'o', 'u']\n",
        "consoantes = []\n",
        "for i in range(0,3):\n",
        "  letra_atual = input('Informe um caracter: ')\n",
        "  vetor10char.append(letra_atual)\n",
        "  if letra_atual not in vogais:\n",
        "    consoantes.append(letra_atual)\n",
        "print('Quantidade de consoantes =', len(consoantes))\n",
        "print('Lista de consoantes encontradas: ')\n",
        "for i in consoantes:\n",
        "  print(i)"
      ],
      "metadata": {
        "id": "Oa2TPTnLSfVv"
      },
      "execution_count": null,
      "outputs": []
    },
    {
      "cell_type": "code",
      "source": [
        "consoantes"
      ],
      "metadata": {
        "id": "s1SeCNvFVMDY"
      },
      "execution_count": null,
      "outputs": []
    },
    {
      "cell_type": "markdown",
      "source": [
        "##05.Faça um Programa que leia 20 números inteiros e armazene-os num vetor. Armazene os números pares no vetor PAR e os números IMPARES no vetor impar. Imprima os três vetores. "
      ],
      "metadata": {
        "id": "MEbcmcghVLiz"
      }
    },
    {
      "cell_type": "code",
      "source": [
        "vetor20num = []\n",
        "par = []\n",
        "impar = []\n",
        "\n",
        "for i in range(1, 21):\n",
        "  num = input('Digite o número inteiro #' + str(i) + ': ')\n",
        "  num = int(num)\n",
        "  vetor20num.append(num)\n",
        "  if num % 2 == 0:\n",
        "    par.append(num)\n",
        "  else:\n",
        "    impar.append(num)\n",
        "\n",
        "print('Todos números: ')\n",
        "for i in vetor20num:\n",
        "  print(i)\n",
        "\n",
        "print('Números pares: ')\n",
        "for i in par:\n",
        "  print(i)\n",
        "\n",
        "print('Números ímpares: ')\n",
        "for i in impar:\n",
        "  print(i)"
      ],
      "metadata": {
        "id": "grsGHb3Opcx2"
      },
      "execution_count": null,
      "outputs": []
    },
    {
      "cell_type": "markdown",
      "source": [
        "##06.Faça um Programa que peça as quatro notas de 10 alunos, calcule e armazene num vetor a média de cada aluno, imprima o número de alunos com média maior ou igual a 7.0.\n",
        "\n",
        "> Indented block\n",
        "\n"
      ],
      "metadata": {
        "id": "RszG7YSZtYRL"
      }
    },
    {
      "cell_type": "code",
      "source": [
        "mediasAlunos = []\n",
        "for i in range(1, 11): #testando para 2 alunos\n",
        "  print('Aluno ' + str(i) + ': ')\n",
        "  soma = 0.0 #zera soma\n",
        "  for m in range(1, 5): #para as 4 notas de cada aluno\n",
        "    soma = soma + float(input('Nota #' + str(m) + ': '))\n",
        "  mediasAlunos.append(soma / 4)"
      ],
      "metadata": {
        "id": "IuhiNQLdtyEo"
      },
      "execution_count": null,
      "outputs": []
    },
    {
      "cell_type": "code",
      "source": [
        "mediasAlunos"
      ],
      "metadata": {
        "id": "4AS25Ln032Kh"
      },
      "execution_count": null,
      "outputs": []
    },
    {
      "cell_type": "code",
      "source": [
        "contagemAprovados = 0\n",
        "for i in mediasAlunos:\n",
        "  if i >= 7.0:\n",
        "    contagemAprovados+=1\n",
        "print('Alunos aprovados (acima de 7): ', contagemAprovados)"
      ],
      "metadata": {
        "id": "IwH-75983ei0"
      },
      "execution_count": null,
      "outputs": []
    },
    {
      "cell_type": "markdown",
      "source": [
        "##07.Faça um Programa que leia um vetor de 5 números inteiros, mostre a soma, a multiplicação e os números.\n"
      ],
      "metadata": {
        "id": "_Equ0R7q3-Hm"
      }
    },
    {
      "cell_type": "code",
      "source": [
        "vetor = []\n",
        "soma = 0\n",
        "produto = 1\n",
        "for i in range(1,6): #5 numeros\n",
        "  numero = int(input('numero:'))\n",
        "  vetor.append(numero)\n",
        "  soma = soma + numero\n",
        "  produto = produto * numero\n",
        "print ('Soma: ', soma)\n",
        "print ('Produto: ', produto)\n"
      ],
      "metadata": {
        "id": "6irQSZDo4V3N"
      },
      "execution_count": null,
      "outputs": []
    },
    {
      "cell_type": "markdown",
      "source": [
        "##08.Faça um Programa que peça a idade e a altura de 5 pessoas, armazene cada informação no seu respectivo vetor. Imprima a idade e a altura na ordem inversa a ordem lida."
      ],
      "metadata": {
        "id": "_6SE5x227Am-"
      }
    },
    {
      "cell_type": "code",
      "source": [
        "#idade e altura de pessoas\n",
        "pessoas = [] #ira conter um vetor de vetores\n",
        "\n",
        "for i in range(1, 3): #usei para 2 pessoas para demorar menos\n",
        "  idade = input('idade pessoa %d:'%(i))\n",
        "  altura = input('altura pessoa %d:'%(i))\n",
        "  pessoas.append([idade, altura])\n"
      ],
      "metadata": {
        "id": "OT2R848u7Msn"
      },
      "execution_count": null,
      "outputs": []
    },
    {
      "cell_type": "code",
      "source": [
        "pessoas"
      ],
      "metadata": {
        "id": "rFvZEUIeAh26"
      },
      "execution_count": null,
      "outputs": []
    },
    {
      "cell_type": "code",
      "source": [
        "for i in pessoas:\n",
        "  i.reverse()\n",
        "  print('altura = %s'%(i[1]) )\n",
        "  print('idade = %s'%(i[0]) )"
      ],
      "metadata": {
        "id": "xXW5OYFeBJeU"
      },
      "execution_count": null,
      "outputs": []
    },
    {
      "cell_type": "markdown",
      "source": [
        "##09.Faça um Programa que leia um vetor A com 10 números inteiros, calcule e mostre a soma dos quadrados dos elementos do vetor."
      ],
      "metadata": {
        "id": "rZpkEFhgDM_s"
      }
    },
    {
      "cell_type": "code",
      "source": [
        "soma = 0.0\n",
        "for i in range (1, 3): #usando 2 numeros ao invés de 10\n",
        "  num = int(input('numero %d: '%(i)))\n",
        "  num = num ** 2\n",
        "  soma = soma + num\n",
        "print (soma)"
      ],
      "metadata": {
        "colab": {
          "base_uri": "https://localhost:8080/"
        },
        "id": "VPvavSjcDTSM",
        "outputId": "fab51f97-e166-400a-f4c2-c1bb1620dd5e"
      },
      "execution_count": null,
      "outputs": [
        {
          "output_type": "stream",
          "name": "stdout",
          "text": [
            "numero 1: 3\n",
            "numero 2: 4\n",
            "25.0\n"
          ]
        }
      ]
    },
    {
      "cell_type": "markdown",
      "source": [
        "##10.Faça um Programa que leia dois vetores com 10 elementos cada. Gere um terceiro vetor de 20 elementos, cujos valores deverão ser compostos pelos elementos intercalados dos dois outros vetores."
      ],
      "metadata": {
        "id": "vYVDq8MgHTDj"
      }
    },
    {
      "cell_type": "code",
      "source": [
        "#usando 2 vetores com 2 elementos cada por questoes de agilidade\n",
        "vetor1 = []\n",
        "vetor2 = []\n",
        "vetor3 = []\n",
        "\n",
        "print('Informe valores do primeiro vetor: ')\n",
        "for i in range (0,2):\n",
        "  vetor1.append(int(input('Insira elemento %d: '%(i + 1))))\n",
        "\n",
        "print('Informe valores do segundo vetor: ')\n",
        "for i in range (0,2):\n",
        "  vetor2.append(int(input('Insira elemento %d: '%(i + 1))))\n",
        "\n",
        "for i in range (0,2):\n",
        "  vetor3.append(vetor1[i])\n",
        "  vetor3.append(vetor2[i])\n",
        "print('Vetor 3: ')\n",
        "vetor3"
      ],
      "metadata": {
        "colab": {
          "base_uri": "https://localhost:8080/"
        },
        "id": "vC2GKcK7HmtR",
        "outputId": "6c8251a6-8c9b-4377-ebe0-01bbea6f03db"
      },
      "execution_count": null,
      "outputs": [
        {
          "output_type": "stream",
          "name": "stdout",
          "text": [
            "Informe valores do primeiro vetor: \n",
            "Insira elemento 1: 1\n",
            "Insira elemento 2: 2\n",
            "Informe valores do segundo vetor: \n",
            "Insira elemento 1: 8\n",
            "Insira elemento 2: 9\n",
            "Vetor 3: \n"
          ]
        },
        {
          "output_type": "execute_result",
          "data": {
            "text/plain": [
              "[1, 8, 2, 9]"
            ]
          },
          "metadata": {},
          "execution_count": 123
        }
      ]
    },
    {
      "cell_type": "code",
      "source": [
        "vetor1"
      ],
      "metadata": {
        "colab": {
          "base_uri": "https://localhost:8080/"
        },
        "id": "puQHoF_wP5GS",
        "outputId": "461d117b-d7ed-4f78-f027-0c5943e3e5c6"
      },
      "execution_count": null,
      "outputs": [
        {
          "output_type": "execute_result",
          "data": {
            "text/plain": [
              "[1, 2]"
            ]
          },
          "metadata": {},
          "execution_count": 120
        }
      ]
    },
    {
      "cell_type": "code",
      "source": [
        "vetor2"
      ],
      "metadata": {
        "colab": {
          "base_uri": "https://localhost:8080/"
        },
        "id": "2VqAX8eJQM1I",
        "outputId": "fe908930-afe2-4a78-ebc6-641a95a78e93"
      },
      "execution_count": null,
      "outputs": [
        {
          "output_type": "execute_result",
          "data": {
            "text/plain": [
              "[8, 9]"
            ]
          },
          "metadata": {},
          "execution_count": 121
        }
      ]
    },
    {
      "cell_type": "markdown",
      "source": [
        "##11.Altere o programa anterior, intercalando 3 vetores de 10 elementos cada."
      ],
      "metadata": {
        "id": "8raMX3L8TZkH"
      }
    },
    {
      "cell_type": "code",
      "source": [
        "#usando 2 vetores com 2 elementos cada por questoes de agilidade\n",
        "vetor1 = []\n",
        "vetor2 = []\n",
        "vetor3 = []\n",
        "vetor4 = []\n",
        "\n",
        "print('Informe valores do primeiro vetor: ')\n",
        "for i in range (0,2):\n",
        "  vetor1.append(int(input('Insira elemento %d: '%(i + 1))))\n",
        "\n",
        "print('Informe valores do segundo vetor: ')\n",
        "for i in range (0,2):\n",
        "  vetor2.append(int(input('Insira elemento %d: '%(i + 1))))\n",
        "\n",
        "print('Informe valores do terceiro vetor: ')\n",
        "for i in range (0,2):\n",
        "  vetor3.append(int(input('Insira elemento %d: '%(i + 1))))\n",
        "\n",
        "for i in range (0,2):\n",
        "  vetor4.append(vetor1[i])\n",
        "  vetor4.append(vetor2[i])\n",
        "  vetor4.append(vetor3[i])\n",
        "print('Vetor 4: ')\n",
        "vetor4"
      ],
      "metadata": {
        "colab": {
          "base_uri": "https://localhost:8080/"
        },
        "id": "tNVIDWAHTed9",
        "outputId": "3f6120b0-9767-4cd5-ba99-db3e1ab1862c"
      },
      "execution_count": null,
      "outputs": [
        {
          "output_type": "stream",
          "name": "stdout",
          "text": [
            "Informe valores do primeiro vetor: \n",
            "Insira elemento 1: 1\n",
            "Insira elemento 2: 1\n",
            "Informe valores do segundo vetor: \n",
            "Insira elemento 1: 2\n",
            "Insira elemento 2: 2\n",
            "Informe valores do terceiro vetor: \n",
            "Insira elemento 1: 3\n",
            "Insira elemento 2: 3\n",
            "Vetor 4: \n"
          ]
        },
        {
          "output_type": "execute_result",
          "data": {
            "text/plain": [
              "[1, 2, 3, 1, 2, 3]"
            ]
          },
          "metadata": {},
          "execution_count": 126
        }
      ]
    },
    {
      "cell_type": "markdown",
      "source": [
        "##12.Foram anotadas as idades e alturas de 30 alunos. Faça um Programa que determine quantos alunos com mais de 13 anos possuem altura inferior à média de altura desses alunos."
      ],
      "metadata": {
        "id": "ok720ZprUbyS"
      }
    },
    {
      "cell_type": "code",
      "source": [
        "#idade e altura de pessoas\n",
        "alunos = [] #ira conter um vetor de vetores\n",
        "somaAltura = 0 \n",
        "alturaMedia = 0 \n",
        "contagemAlunos = 0\n",
        "\n",
        "for i in range(1, 3): #usei para 2 pessoas para demorar menos\n",
        "  idade = int(input('idade aluno %d:'%(i)))\n",
        "  altura = int(input('altura aluno %d:'%(i)))\n",
        "  alunos.append([idade, altura])\n",
        "  somaAltura = somaAltura + altura\n",
        "alturaMedia = somaAltura / len(alunos)\n",
        "print(alturaMedia)\n",
        "for i in alunos:\n",
        "  if (i[0] > 13 and i[1] < alturaMedia):\n",
        "    contagemAlunos+=1\n",
        "print ('Existem %d alunos acima de 13 anos com altura menor do que a média.'% contagemAlunos)"
      ],
      "metadata": {
        "id": "0GfHjd6TUf0Q"
      },
      "execution_count": null,
      "outputs": []
    },
    {
      "cell_type": "markdown",
      "source": [
        "##13.Faça um programa que receba a temperatura média de cada mês do ano e armazene-as em uma lista. Após isto, calcule a média anual das temperaturas e mostre todas as temperaturas acima da média anual, e em que mês elas ocorreram (mostrar o mês por extenso: 1 – Janeiro, 2 – Fevereiro, . . . ).\n"
      ],
      "metadata": {
        "id": "z-gKF_WwXp6-"
      }
    },
    {
      "cell_type": "code",
      "source": [
        "meses = ['Janeiro', \n",
        "         'Fevereiro', \n",
        "         'Março', \n",
        "         'Abril', \n",
        "         'Maio', \n",
        "         'Junho', \n",
        "         'Julho', \n",
        "         'Agosto', \n",
        "         'Setembro', \n",
        "         'Outubro',\n",
        "         'Novembro', \n",
        "         'Dezembro']"
      ],
      "metadata": {
        "id": "pb3kgLkFcOE8"
      },
      "execution_count": null,
      "outputs": []
    },
    {
      "cell_type": "code",
      "source": [
        "mediaTemp = []\n",
        "print('Digite as médias de temperaturas para os seguintes meses: ')\n",
        "for i in range (0, 12):\n",
        "  mediaTemp.append(float(input('%s '%meses[i])))"
      ],
      "metadata": {
        "colab": {
          "base_uri": "https://localhost:8080/"
        },
        "id": "qGNx2tJWckln",
        "outputId": "f323c163-bf05-4a11-8be8-9d3eac52e54d"
      },
      "execution_count": null,
      "outputs": [
        {
          "name": "stdout",
          "output_type": "stream",
          "text": [
            "Digite as médias de temperaturas para os seguintes meses: \n",
            "Janeiro 24.4\n",
            "Fevereiro 24.1\n",
            "Março 22.6\n",
            "Abril 19.5\n",
            "Maio 15.7\n",
            "Junho 14\n",
            "Julho 13.1\n",
            "Agosto 14.8\n",
            "Setembro 16.4\n",
            "Outubro 18.9\n",
            "Novembro 20.9\n",
            "Dezembro 23.4\n"
          ]
        }
      ]
    },
    {
      "cell_type": "code",
      "source": [
        "somaTempMensal = 0\n",
        "for i in mediaTemp:\n",
        "  somaTempMensal = somaTempMensal + i\n",
        "#print('%.2f'%somaTempMensal)\n",
        "mediaTempAnual = somaTempMensal / 12\n",
        "print('%1.2f'%mediaTempAnual)         #%1.2f significa exibicao de um float "
      ],
      "metadata": {
        "colab": {
          "base_uri": "https://localhost:8080/"
        },
        "id": "vfp59Lgnk5pD",
        "outputId": "e3cc3c75-5017-4124-fcfa-82cbb585f964"
      },
      "execution_count": null,
      "outputs": [
        {
          "output_type": "stream",
          "name": "stdout",
          "text": [
            "18.98\n"
          ]
        }
      ]
    },
    {
      "cell_type": "markdown",
      "source": [
        "Imprimindo os meses com temperatura superior: "
      ],
      "metadata": {
        "id": "ZhSHPxPAqusH"
      }
    },
    {
      "cell_type": "code",
      "source": [
        "print('\\nMeses onde a temperatura média extrapola a média anual: ')\n",
        "for i in range(0,12):\n",
        "  if mediaTemp[i] > mediaTempAnual:\n",
        "    print('%s: %1.1f' % (meses[i], mediaTemp[i]))"
      ],
      "metadata": {
        "colab": {
          "base_uri": "https://localhost:8080/"
        },
        "id": "3iK0FFUCozkU",
        "outputId": "ffa190b8-68aa-4c0f-af64-a9d025a2e99a"
      },
      "execution_count": null,
      "outputs": [
        {
          "output_type": "stream",
          "name": "stdout",
          "text": [
            "\n",
            "Meses onde a temperatura média extrapola a média anual: \n",
            "Janeiro: 24.4\n",
            "Fevereiro: 24.1\n",
            "Março: 22.6\n",
            "Abril: 19.5\n",
            "Novembro: 20.9\n",
            "Dezembro: 23.4\n"
          ]
        }
      ]
    },
    {
      "cell_type": "code",
      "source": [
        "#Extra: Para entender/testar como funciona a formatação de texto com % \"format specifiers\" \n",
        "print('%4.4f'%0.02)"
      ],
      "metadata": {
        "colab": {
          "base_uri": "https://localhost:8080/"
        },
        "id": "7k5cWlpZmJA0",
        "outputId": "e74d6070-bfbe-4252-8b19-7adae4644e6a"
      },
      "execution_count": null,
      "outputs": [
        {
          "output_type": "stream",
          "name": "stdout",
          "text": [
            "0.0200\n"
          ]
        }
      ]
    },
    {
      "cell_type": "code",
      "source": [
        ""
      ],
      "metadata": {
        "id": "PtQd7xe9nZc3"
      },
      "execution_count": null,
      "outputs": []
    },
    {
      "cell_type": "markdown",
      "source": [
        "##14.Utilizando listas faça um programa que faça 5 perguntas para uma pessoa sobre um crime. As perguntas são:\n",
        "1. \"Telefonou para a vítima?\"\n",
        "2. \"Esteve no local do crime?\"\n",
        "3. \"Mora perto da vítima?\"\n",
        "4. \"Devia para a vítima?\"\n",
        "5. \"Já trabalhou com a vítima?\" \n",
        "\n",
        "O programa deve no final emitir uma classificação sobre a participação da pessoa no crime. \n",
        "Se a pessoa responder positivamente a 2 questões ela deve ser classificada como \"Suspeita\", \n",
        "entre 3 e 4 como \"Cúmplice\" e \n",
        "5 como \"Assassino\". \n",
        "Caso contrário, ele será classificado como \"Inocente\"."
      ],
      "metadata": {
        "id": "buk12YtNrZiC"
      }
    },
    {
      "cell_type": "code",
      "source": [
        "perguntas = [\"Telefonou para a vítima?\",\n",
        "             \"Esteve no local do crime?\",\n",
        "             \"Mora perto da vítima?\",\n",
        "             \"Devia para a vítima?\",\n",
        "             \"Já trabalhou com a vítima?\"]\n",
        "\n",
        "somaRespostas = 0\n",
        "resposta = 0\n",
        "print('Respondas as seguintes perguntas indicando \\\"s\\\" para sim ou \\\"n\\\" para não: ')\n",
        "for i in perguntas:\n",
        "  resposta = (input('%s ' % (i, )))\n",
        "  if resposta.lower() == 's': #converte resposta para minúsculas com o método lower()\n",
        "    somaRespostas+=1\n",
        "\n",
        "if (somaRespostas < 2):\n",
        "  print('Inocente')\n",
        "elif (somaRespostas == 2):\n",
        "  print('Cúmplice')\n",
        "elif (somaRespostas < 4):\n",
        "  print('Suspeita')    \n",
        "else:\n",
        "  print('Assassino')\n",
        "\n"
      ],
      "metadata": {
        "colab": {
          "base_uri": "https://localhost:8080/"
        },
        "id": "xmZn8d-4HPUn",
        "outputId": "2a9e222e-0425-424a-dcd0-4e8e9b5d8e9b"
      },
      "execution_count": null,
      "outputs": [
        {
          "output_type": "stream",
          "name": "stdout",
          "text": [
            "Respondas as seguintes perguntas indicando \"s\" para sim ou \"n\" para não: \n",
            "Telefonou para a vítima? S\n",
            "Esteve no local do crime? S\n",
            "Mora perto da vítima? S\n",
            "Devia para a vítima? N\n",
            "Já trabalhou com a vítima? N\n",
            "Suspeita\n"
          ]
        }
      ]
    },
    {
      "cell_type": "markdown",
      "source": [
        "##15.Faça um programa que leia um número indeterminado de valores, correspondentes a notas, encerrando a entrada de dados quando for informado um valor igual a -1 (que não deve ser armazenado). Após esta entrada de dados, faça:\n",
        "1. Mostre a quantidade de valores que foram lidos;\n",
        "2. Exiba todos os valores na ordem em que foram informados, um ao lado do outro;\n",
        "3. Exiba todos os valores na ordem inversa à que foram informados, um abaixo do outro;\n",
        "4. Calcule e mostre a soma dos valores;\n",
        "5. Calcule e mostre a média dos valores;\n",
        "6. Calcule e mostre a quantidade de valores acima da média calculada;\n",
        "7. Calcule e mostre a quantidade de valores abaixo de sete;\n",
        "8. Encerre o programa com uma mensagem;"
      ],
      "metadata": {
        "id": "heWUdmptMmaT"
      }
    },
    {
      "cell_type": "code",
      "source": [
        "print ('Informe a seguir a nota do aluno. \\nCaso queira encerrar o programa, digite \\\"-1\\\"')\n",
        "notaAtual = 0\n",
        "notas = []\n",
        "somaNotas = 0 \n",
        "mediaNotas = 0\n",
        "acimaMedia = 0\n",
        "abaixoMedia7 = 0\n",
        "\n",
        "while notaAtual != -1:\n",
        "  notaAtual = int(input('nota: '))\n",
        "  if notaAtual != -1:\n",
        "    notas.append(notaAtual)\n",
        "    somaNotas = somaNotas + notaAtual"
      ],
      "metadata": {
        "colab": {
          "base_uri": "https://localhost:8080/"
        },
        "id": "6cTQKn75MywB",
        "outputId": "69dbb9bc-e028-4e05-abba-6cc70b8ffe9d"
      },
      "execution_count": null,
      "outputs": [
        {
          "name": "stdout",
          "output_type": "stream",
          "text": [
            "Informe a seguir a nota do aluno. \n",
            "Caso queira encerrar o programa, digite \"-1\"\n",
            "nota: 6\n",
            "nota: 7\n",
            "nota: 8\n",
            "nota: -1\n"
          ]
        }
      ]
    },
    {
      "cell_type": "code",
      "source": [
        "# === Resultados ===\n",
        "print('Notas:', end = ' ')\n",
        "for i in notas:\n",
        "  print(i, end = ' ')\n",
        "\n",
        "notas.reverse()\n",
        "print('\\nNotas(vert):')\n",
        "for i in notas:\n",
        "  print(i, end = '\\n')\n",
        "print('===')\n",
        "\n",
        "mediaNotas = somaNotas / len(notas)\n",
        "print('Quantidade de valores lidos: %d' % (len(notas), )) \n",
        "print('Soma: %.2f' % (somaNotas))\n",
        "print('Média: %.2f' % (mediaNotas))\n",
        "\n",
        "for i in notas:\n",
        "  if i < 7:\n",
        "    abaixoMedia7+=1\n",
        "  if i > mediaNotas:\n",
        "    acimaMedia+=1\n",
        "\n",
        "print('Acima Média calculada: %d' % (acimaMedia))\n",
        "print('Abaixo de 7: %d' % (abaixoMedia7))\n",
        "\n",
        "print('\\n\\nPrograma de médias finalizado!')"
      ],
      "metadata": {
        "colab": {
          "base_uri": "https://localhost:8080/"
        },
        "id": "pkbgKagtPuIR",
        "outputId": "e61cc9b4-362b-4ea6-c651-71f2f626a763"
      },
      "execution_count": null,
      "outputs": [
        {
          "output_type": "stream",
          "name": "stdout",
          "text": [
            "Notas: 6 7 8 \n",
            "Notas(vert):\n",
            "8\n",
            "7\n",
            "6\n",
            "===\n",
            "Quantidade de valores lidos: 3\n",
            "Soma: 21.00\n",
            "Média: 7.00\n",
            "Acima Média calculada: 1\n",
            "Abaixo de 7: 1\n",
            "\n",
            "\n",
            "Programa de médias finalizado!\n"
          ]
        }
      ]
    },
    {
      "cell_type": "markdown",
      "source": [
        "##16.Utilize uma lista para resolver o problema a seguir. Uma empresa paga seus vendedores com base em comissões. \n",
        "\n",
        "O vendedor recebe 200 por semana mais 9 por cento de suas vendas brutas daquela semana. Por exemplo, um vendedor que teve vendas brutas de 3000 em uma semana recebe 200 mais 9 por cento de 3000, ou seja, um total de 470. Escreva um programa que leia o salario de 5 vendedres (usando um array de contadores) que determine quantos receberam salários nos seguintes intervalos de valores:\n",
        "\n",
        "200 - 299\n",
        "300 - 399\n",
        "400 - 499\n",
        "500 - 599\n",
        "600 - 699\n",
        "700 - 799\n",
        "800 - 899\n",
        "900 - 999\n",
        "1000 em diante"
      ],
      "metadata": {
        "id": "QJVUahYnVoRV"
      }
    },
    {
      "cell_type": "code",
      "source": [
        "vendas = []\n",
        "salario = []\n",
        "cat = [0, 0, 0, 0, 0, 0, 0, 0, 0] \n",
        "indice = 0\n",
        "\n",
        "for i in range (0, 5):\n",
        "  vendas.append(float(input('Total de vendas vendedor %d = ' % (i + 1)))) #armazena valor de vendas do vendedor\n",
        "  salario.append(vendas[i] * 0.09 + 200)                                  #calcula salario e armazena\n",
        "  \n",
        "  indice = int((vendas[i] * 0.09 + 200) / 100) - 1\n",
        "  if indice > 9: # quando extrapolar o valor de 1000, sempre segue no índice 9\n",
        "    indice = 9\n",
        "  if indice < 1: # quando o vendedor vender menos que 200 reais, sempre irá receber 200.\n",
        "    indice = 1\n",
        "  cat[indice - 1]+=1 # incrementa os contadores na lista de categorias\n",
        "\n",
        "  \n"
      ],
      "metadata": {
        "colab": {
          "base_uri": "https://localhost:8080/"
        },
        "id": "q3VTRyYeZx9R",
        "outputId": "b4f41363-f3f1-4719-cc72-f686a6b82ae5"
      },
      "execution_count": null,
      "outputs": [
        {
          "name": "stdout",
          "output_type": "stream",
          "text": [
            "Total de vendas vendedor 1 = 8000\n",
            "Total de vendas vendedor 2 = 9000\n",
            "Total de vendas vendedor 3 = 350\n",
            "Total de vendas vendedor 4 = 700\n",
            "Total de vendas vendedor 5 = 1000\n"
          ]
        }
      ]
    },
    {
      "cell_type": "code",
      "source": [
        "salario"
      ],
      "metadata": {
        "colab": {
          "base_uri": "https://localhost:8080/"
        },
        "id": "raseq8JObVmP",
        "outputId": "dbd2717e-92ff-4a85-ce3f-8b334ae740f6"
      },
      "execution_count": null,
      "outputs": [
        {
          "output_type": "execute_result",
          "data": {
            "text/plain": [
              "[920.0, 1010.0, 231.5, 263.0, 290.0]"
            ]
          },
          "metadata": {},
          "execution_count": 166
        }
      ]
    },
    {
      "cell_type": "code",
      "source": [
        "cat"
      ],
      "metadata": {
        "colab": {
          "base_uri": "https://localhost:8080/"
        },
        "id": "p4QKzB7lgvBz",
        "outputId": "3a789f46-acbb-4d83-be7e-87da1ebcc26a"
      },
      "execution_count": null,
      "outputs": [
        {
          "output_type": "execute_result",
          "data": {
            "text/plain": [
              "[3, 0, 0, 0, 0, 0, 0, 1, 1]"
            ]
          },
          "metadata": {},
          "execution_count": 167
        }
      ]
    },
    {
      "cell_type": "code",
      "source": [
        "for j in range (2, 11):\n",
        "  if j == 10:\n",
        "      print ('1000 - ...: %d' % cat[j - 2]) \n",
        "  else:\n",
        "    print ('%d - %d: %d'% (j * 100, j * 100 + 99, cat[j - 2]) )"
      ],
      "metadata": {
        "colab": {
          "base_uri": "https://localhost:8080/"
        },
        "id": "BuSc3ZvndvAh",
        "outputId": "08533a1e-4ec2-4401-ad79-4af48a86053a"
      },
      "execution_count": null,
      "outputs": [
        {
          "output_type": "stream",
          "name": "stdout",
          "text": [
            "200 - 299: 3\n",
            "300 - 399: 0\n",
            "400 - 499: 0\n",
            "500 - 599: 0\n",
            "600 - 699: 0\n",
            "700 - 799: 0\n",
            "800 - 899: 0\n",
            "900 - 999: 1\n",
            "1000 - ...: 1\n"
          ]
        }
      ]
    },
    {
      "cell_type": "markdown",
      "source": [
        "##17.Em uma competição de salto em distância... \n",
        "cada atleta tem direito a cinco saltos. O resultado do atleta será determinado pela média dos cinco valores restantes. Você deve fazer um programa que receba o nome e as cinco distâncias alcançadas pelo atleta em seus saltos e depois informe o nome, os saltos e a média dos saltos. O programa deve ser encerrado quando não for informado o nome do atleta. A saída do programa deve ser conforme o exemplo abaixo:\n",
        "\n",
        "*Nota: poderia usar dicionários nessa solução, mas iremos usar listas para praticar.*\n",
        "\n",
        "```\n",
        "Atleta: Rodrigo Curvêllo\n",
        " \n",
        "Primeiro Salto: 6.5 m\n",
        "Segundo Salto: 6.1 m\n",
        "Terceiro Salto: 6.2 m\n",
        "Quarto Salto: 5.4 m\n",
        "Quinto Salto: 5.3 m\n",
        "\n",
        "Resultado final:\n",
        "Atleta: Rodrigo Curvêllo\n",
        "Saltos: 6.5 - 6.1 - 6.2 - 5.4 - 5.3\n",
        "Média dos saltos: 5.9 m\n",
        "```\n",
        "\n"
      ],
      "metadata": {
        "id": "XrVzn2cPt4WT"
      }
    },
    {
      "cell_type": "code",
      "source": [
        "textoSaltos = ['Primeiro', 'Segundo', 'Terceiro', 'Quarto', 'Quinto']\n",
        "atletas = []\n",
        "nomeAtleta = 0\n",
        "\n",
        "\n",
        "while (nomeAtleta != ''):\n",
        "  nomeAtleta = input('\\nNome (vazio para terminar): ')\n",
        "  soma = 0\n",
        "  if nomeAtleta != '':\n",
        "    saltos = []\n",
        "    for i in textoSaltos:\n",
        "      salto = float(input('%s salto: ' % (i)))\n",
        "      saltos.append(salto)\n",
        "      soma = soma + int(salto)\n",
        "    saltos.insert(0, nomeAtleta)  #adiciona ao inicio do array o nome do atleta\n",
        "    saltos.append(soma / 5)\n",
        "    atletas.append(saltos)        #adiciona a ficha completa a tabela atletas\n"
      ],
      "metadata": {
        "id": "OmpzN_AUuRJ7"
      },
      "execution_count": null,
      "outputs": []
    },
    {
      "cell_type": "code",
      "source": [
        "atletas"
      ],
      "metadata": {
        "id": "Z-18l_638n9F"
      },
      "execution_count": null,
      "outputs": []
    },
    {
      "cell_type": "code",
      "source": [
        "for i in atletas:\n",
        "  print('Atleta: %s' %i[0], end = '\\n\\n')\n",
        "  cont = 1\n",
        "  for j in textoSaltos:\n",
        "    print('%s salto: %s' % (j, i[cont]))\n",
        "    cont+=1\n",
        "  \n",
        "  print('\\nResultado final:')\n",
        "  print('Atleta: %s' % i[0])\n",
        "  print('Saltos: %.1f - %.1f - %.1f - %.1f - %.1f' % (i[1], i[2], i[3], i[4], i[5]))\n",
        "  print('Media dos saltos: %.2f' % i[6])\n",
        "\n",
        "  print('===================', end = '\\n\\n')"
      ],
      "metadata": {
        "id": "ZfGEyOZ-7eSU"
      },
      "execution_count": null,
      "outputs": []
    },
    {
      "cell_type": "code",
      "source": [
        "atletas.append(saltos)"
      ],
      "metadata": {
        "id": "9IjshTKe5OqG"
      },
      "execution_count": null,
      "outputs": []
    },
    {
      "cell_type": "code",
      "source": [
        "atletas"
      ],
      "metadata": {
        "colab": {
          "base_uri": "https://localhost:8080/"
        },
        "id": "XFXmnZj_5RUO",
        "outputId": "66f0684a-2518-4769-ba29-77cf11e65a4e"
      },
      "execution_count": null,
      "outputs": [
        {
          "output_type": "execute_result",
          "data": {
            "text/plain": [
              "[['fernn', '10', '20', '30', '40', '50']]"
            ]
          },
          "metadata": {},
          "execution_count": 202
        }
      ]
    },
    {
      "cell_type": "markdown",
      "source": [
        "##18.Uma grande emissora de televisão quer fazer uma enquete entre os seus telespectadores... \n",
        "para saber qual o melhor jogador após cada jogo. Para isto, faz-se necessário o desenvolvimento de um programa, que será utilizado pelas telefonistas, para a computação dos votos. Sua equipe foi contratada para desenvolver este programa, utilizando a linguagem de programação C++. Para computar cada voto, a telefonista digitará um número, entre 1 e 23, correspondente ao número da camisa do jogador. Um número de jogador igual zero, indica que a votação foi encerrada. Se um número inválido for digitado, o programa deve ignorá-lo, mostrando uma breve mensagem de aviso, e voltando a pedir outro número. Após o final da votação, o programa deverá exibir:\n",
        "\n",
        "\n",
        "a. O total de votos computados;\n",
        "\n",
        "b. Os númeos e respectivos votos de todos os jogadores que receberam votos;\n",
        "\n",
        "c. O percentual de votos de cada um destes jogadores;\n",
        "\n",
        "d. O número do jogador escolhido como o melhor jogador da partida, juntamente com o número de votos e o percentual de votos dados a ele.\n",
        "\n",
        "Observe que os votos inválidos e o zero final não devem ser computados como votos. O resultado aparece ordenado pelo número do jogador. O programa deve fazer uso de arrays. \n",
        "\n",
        "O programa deverá executar o cálculo do percentual de cada jogador através de uma função. Esta função receberá dois parâmetros: o número de votos de um jogador e o total de votos. A função calculará o percentual e retornará o valor calculado. \n",
        "\n",
        "Abaixo segue uma tela de exemplo. O disposição das informações deve ser o mais próxima possível ao exemplo. Os dados são fictícios e podem mudar a cada execução do programa. Ao final, o programa deve ainda gravar os dados referentes ao resultado da votação em um arquivo texto no disco, obedecendo a mesma disposição apresentada na tela.\n",
        "\n",
        "\n"
      ],
      "metadata": {
        "id": "m4GwGxV8E8v2"
      }
    },
    {
      "cell_type": "code",
      "source": [
        ""
      ],
      "metadata": {
        "colab": {
          "base_uri": "https://localhost:8080/"
        },
        "id": "DBrLhVQHFpvr",
        "outputId": "ba15a0f8-14b2-45ad-8b8c-3e178b945b76"
      },
      "execution_count": null,
      "outputs": [
        {
          "output_type": "stream",
          "name": "stdout",
          "text": [
            "Enquete melhores jogadores!\n"
          ]
        }
      ]
    },
    {
      "cell_type": "code",
      "source": [
        "len(numJogador)"
      ],
      "metadata": {
        "colab": {
          "base_uri": "https://localhost:8080/"
        },
        "id": "gD42t8elGXiw",
        "outputId": "292d1451-ec4e-4a8e-83b9-5a760b6ce5ac"
      },
      "execution_count": null,
      "outputs": [
        {
          "output_type": "execute_result",
          "data": {
            "text/plain": [
              "23"
            ]
          },
          "metadata": {},
          "execution_count": 242
        }
      ]
    },
    {
      "cell_type": "code",
      "source": [
        "print('Enquete melhores jogadores!')\n",
        "votosJogadores = [0] * 23\n",
        "totalVotos = 0\n",
        "votoAtual = -1\n",
        "\n",
        "while (votoAtual != 0 or votoAtual == ''):\n",
        "  try: \n",
        "      votoAtual = int(input('Número jogador (0 = fim):')) \n",
        "  except:\n",
        "    print('Digite somente números.')\n",
        "  if (votoAtual < 0) or (votoAtual > 23):\n",
        "        print ('Informe um valor entre 1 e 23 ou 0 para sair!')\n",
        "        continue\n",
        "  else:\n",
        "    votosJogadores[votoAtual - 1] += 1\n",
        "    totalVotos += 1\n",
        "print('Fim da votação!')"
      ],
      "metadata": {
        "colab": {
          "base_uri": "https://localhost:8080/"
        },
        "id": "SgncoHH5GfOm",
        "outputId": "2f1afd27-a662-4848-ae73-fc7f8d4fb745"
      },
      "execution_count": null,
      "outputs": [
        {
          "output_type": "stream",
          "name": "stdout",
          "text": [
            "Enquete melhores jogadores!\n",
            "Número jogador (0 = fim):1\n",
            "Número jogador (0 = fim):1\n",
            "Número jogador (0 = fim):1\n",
            "Número jogador (0 = fim):1\n",
            "Número jogador (0 = fim):4\n",
            "Número jogador (0 = fim):5\n",
            "Número jogador (0 = fim):8\n",
            "Número jogador (0 = fim):8\n",
            "Número jogador (0 = fim):8\n",
            "Número jogador (0 = fim):8\n",
            "Número jogador (0 = fim):8\n",
            "Número jogador (0 = fim):8\n",
            "Número jogador (0 = fim):8\n",
            "Número jogador (0 = fim):8\n",
            "Número jogador (0 = fim):\n",
            "Digite somente números.\n",
            "Número jogador (0 = fim):0\n",
            "Fim da votação!\n"
          ]
        }
      ]
    },
    {
      "cell_type": "code",
      "source": [
        "votosJogadores"
      ],
      "metadata": {
        "colab": {
          "base_uri": "https://localhost:8080/"
        },
        "id": "ZyI72AHjIhoV",
        "outputId": "041084c2-b65f-4802-9f1c-b0eaded8b12d"
      },
      "execution_count": null,
      "outputs": [
        {
          "output_type": "execute_result",
          "data": {
            "text/plain": [
              "[0, 0, 0, 1, 1, 0, 2, 0, 1, 1, 1, 0, 0, 0, 0, 0, 0, 0, 0, 0, 0, 0, 1]"
            ]
          },
          "metadata": {},
          "execution_count": 15
        }
      ]
    },
    {
      "cell_type": "code",
      "source": [
        "def percentual(jog, total):\n",
        "  return (jog / total) * 100\n",
        "  \n",
        "print ('Resultados!\\n')\n",
        "print ('Foram computados %d votos.' % totalVotos)\n",
        "print ('Jogador\\t Votos\\t %')\n",
        "\n",
        "melhorJogador = 0\n",
        "\n",
        "contador = 1\n",
        "for i in votosJogadores:\n",
        "  if (i > 0):\n",
        "    print('%d\\t %d\\t %1.1f%% ' % (contador, i, percentual(i, totalVotos)))\n",
        "    if (i > votosJogadores[melhorJogador]):\n",
        "      melhorJogador = contador - 1\n",
        "  contador += 1\n",
        "print('O melhor jogador foi o %d, com %d votos, correspondendo a %1.1f%% do total de votos.' % (melhorJogador + 1, votosJogadores[melhorJogador], percentual(votosJogadores[melhorJogador],totalVotos)))\n",
        "\n",
        "\n"
      ],
      "metadata": {
        "colab": {
          "base_uri": "https://localhost:8080/"
        },
        "id": "gh8E2PlNFJgY",
        "outputId": "20693889-2d19-47b1-b7ff-49d5fca33730"
      },
      "execution_count": null,
      "outputs": [
        {
          "output_type": "stream",
          "name": "stdout",
          "text": [
            "Resultados!\n",
            "\n",
            "Foram computados 16 votos.\n",
            "Jogador\t Votos\t %\n",
            "1\t 4\t 25.0% \n",
            "4\t 1\t 6.2% \n",
            "5\t 1\t 6.2% \n",
            "8\t 9\t 56.2% \n",
            "23\t 1\t 6.2% \n",
            "O melhor jogador foi o 8, com 9 votos, correspondendo a 56.2% do total de votos.\n"
          ]
        }
      ]
    },
    {
      "cell_type": "markdown",
      "source": [
        "##19.Uma empresa de pesquisas precisa tabular os resultados da seguinte enquete feita a um grande quantidade de organizações:\n",
        "*Problema semelhante ao #18.*"
      ],
      "metadata": {
        "id": "buOlUZtQQJsC"
      }
    },
    {
      "cell_type": "markdown",
      "source": [
        "# Funções"
      ],
      "metadata": {
        "id": "tLhp_RBgENCN"
      }
    },
    {
      "cell_type": "code",
      "source": [
        ""
      ],
      "metadata": {
        "id": "Ka68OYSvEM0p"
      },
      "execution_count": null,
      "outputs": []
    }
  ],
  "metadata": {
    "colab": {
      "name": "Aula 28c - Exercicios Python Brasil - Listas .ipynb",
      "toc_visible": true,
      "provenance": [],
      "collapsed_sections": [
        "ArmF3-pvaQuf",
        "aOeIIiU2m6dA",
        "BhO6JqqwjDJ1",
        "4N4HbSxXBXs8",
        "6aB1CG_2RWS6",
        "MEbcmcghVLiz",
        "RszG7YSZtYRL",
        "_Equ0R7q3-Hm",
        "_6SE5x227Am-",
        "rZpkEFhgDM_s",
        "vYVDq8MgHTDj",
        "8raMX3L8TZkH",
        "ok720ZprUbyS",
        "z-gKF_WwXp6-",
        "buk12YtNrZiC",
        "heWUdmptMmaT"
      ],
      "authorship_tag": "ABX9TyMS2pKetDX0QjbZ/RnIy8h4",
      "include_colab_link": true
    },
    "kernelspec": {
      "display_name": "Python 3",
      "name": "python3"
    },
    "language_info": {
      "name": "python"
    }
  },
  "nbformat": 4,
  "nbformat_minor": 0
}